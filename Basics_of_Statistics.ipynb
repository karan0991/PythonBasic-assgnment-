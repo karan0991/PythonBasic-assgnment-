{
 "cells": [
  {
   "cell_type": "markdown",
   "id": "3e99bee0",
   "metadata": {},
   "source": [
    "Q1 Explain the different types of data (qualitative and quantitative) and provide examples of each. Discuss nominal, ordinal, interval, and ratio scales"
   ]
  },
  {
   "cell_type": "markdown",
   "id": "c336cf62",
   "metadata": {},
   "source": [
    "Q2  What are the measures of central tendency, and when should you use each? Discuss the mean, median,and mode with examples and situations where each is appropriate"
   ]
  },
  {
   "cell_type": "markdown",
   "id": "790c104d",
   "metadata": {},
   "source": [
    "Q3 Explain the concept of dispersion. How do variance and standard deviation measure the spread of data? "
   ]
  },
  {
   "cell_type": "markdown",
   "id": "3586ae21",
   "metadata": {},
   "source": [
    "Q4 What is a box plot, and what can it tell you about the distribution of data?"
   ]
  },
  {
   "cell_type": "markdown",
   "id": "1bbf02d9",
   "metadata": {},
   "source": [
    "Q5 Discuss the role of random sampling in making inferences about populations."
   ]
  },
  {
   "cell_type": "markdown",
   "id": "89469e32",
   "metadata": {},
   "source": [
    "Q6  Explain the concept of skewness and its types. How does skewness affect the interpretation of data?"
   ]
  },
  {
   "cell_type": "markdown",
   "id": "98fb3226",
   "metadata": {},
   "source": [
    "Q7 What is the interquartile range (IQR), and how is it used to detect outliers?"
   ]
  },
  {
   "cell_type": "markdown",
   "id": "208e9f49",
   "metadata": {},
   "source": [
    "Q8 Discuss the conditions under which the binomial distribution is used."
   ]
  },
  {
   "cell_type": "markdown",
   "id": "8285a661",
   "metadata": {},
   "source": [
    "Q9 Explain the properties of the normal distribution and the empirical rule (68-95-99.7 rule)."
   ]
  },
  {
   "cell_type": "markdown",
   "id": "ecd30c4e",
   "metadata": {},
   "source": [
    "Q10 Provide a real-life example of a Poisson process and calculate the probability for a specific event."
   ]
  },
  {
   "cell_type": "markdown",
   "id": "534f1b3e",
   "metadata": {},
   "source": [
    "Q11 Explain what a random variable is and differentiate between discrete and continuous random variables."
   ]
  },
  {
   "cell_type": "markdown",
   "id": "58f84722",
   "metadata": {},
   "source": [
    "Q12 Provide an example dataset, calculate both covariance and correlation, and interpret the results."
   ]
  }
 ],
 "metadata": {
  "language_info": {
   "name": "python"
  }
 },
 "nbformat": 4,
 "nbformat_minor": 5
}
