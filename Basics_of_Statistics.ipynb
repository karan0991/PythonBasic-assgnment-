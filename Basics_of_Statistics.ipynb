{
 "cells": [
  {
   "cell_type": "markdown",
   "id": "3e99bee0",
   "metadata": {},
   "source": [
    "Q1 Explain the different types of data (qualitative and quantitative) and provide examples of each. Discuss nominal, ordinal, interval, and ratio scales\n",
    "- Qualitative Data: Describes qualities or characteristics. Examples:\n",
    "1. Nominal: Categories without order such as colors: red, blue, green.\n",
    "2. Ordinal: Categories with a meaningful order such as survey ratings: poor, fair, good.\n",
    "- Quantitative Data: Represents numerical measurements. Examples:\n",
    "1. Interval: Numeric values without a true zero such as temperature in Celsius.\n",
    "2. Ratio: Numeric values with a true zero such as weight, height."
   ]
  },
  {
   "cell_type": "markdown",
   "id": "c336cf62",
   "metadata": {},
   "source": [
    "Q2  What are the measures of central tendency, and when should you use each? Discuss the mean, median,and mode with examples and situations where each is appropriate\n",
    "- Mean: Average of all data points \n",
    "    - Formula:  Mean=Sum of values/Number of values\n",
    "    - When to use: For symmetrical data without extreme outliers\n",
    "    - Example score of match[5,5] ,mean = (5+5)/2 = 5\n",
    "- Median: Middle value.\n",
    "    - When to use: Skewed distributions, where outliers heavily affect the mean.\n",
    "    - Example: Salaries [$30,000, $40,000, $50,000]. Median = $40,000.\n",
    "- Mode: Most frequent value.\n",
    "    - When to use: Categorical data or bimodal distributions.\n",
    "    - Example: Ice cream sales: vanilla (30), chocolate (25), strawberry (30). Mode = vanilla and strawberry."
   ]
  },
  {
   "cell_type": "markdown",
   "id": "790c104d",
   "metadata": {},
   "source": [
    "Q3 Explain the concept of dispersion. How do variance and standard deviation measure the spread of data? \n",
    "- Dispersion: Measures how spread out data is.\n",
    "- Variance: Average of squared deviations from the mean. Higher variance = greater spread.\n",
    "- Standard Deviation: Square root of variance, expressing spread in the same units as data."
   ]
  },
  {
   "cell_type": "markdown",
   "id": "3586ae21",
   "metadata": {},
   "source": [
    "Q4 What is a box plot, and what can it tell you about the distribution of data?\n",
    "- A box plot visualizes the data's spread, including:\n",
    "    - Median (line inside the box).\n",
    "    - Quartiles (box boundaries).\n",
    "    - Outliers (points outside whiskers).\n",
    "- It helps identify skewness and detect outliers."
   ]
  },
  {
   "cell_type": "markdown",
   "id": "1bbf02d9",
   "metadata": {},
   "source": [
    "Q5 Discuss the role of random sampling in making inferences about populations.\n",
    "- Ensures every individual in a population has an equal chance of being selected.\n",
    "- Reduces bias and supports statistical inferences about the population.\n",
    "- Example: Drawing random names from a hat to survey preferences."
   ]
  },
  {
   "cell_type": "markdown",
   "id": "89469e32",
   "metadata": {},
   "source": [
    "Q6  Explain the concept of skewness and its types. How does skewness affect the interpretation of data?\n",
    "- Measures the asymmetry of a data distribution.\n",
    "    - Positive Skew: Long tail on the right.\n",
    "    - Negative Skew: Long tail on the left.\n",
    "- Impact: Skewness affects the mean; in skewed data, the mean ≠ median."
   ]
  },
  {
   "cell_type": "markdown",
   "id": "98fb3226",
   "metadata": {},
   "source": [
    "Q7 What is the interquartile range (IQR), and how is it used to detect outliers?\n",
    "- the Interquartile Range (IQR) measures the middle 50% of a dataset and is calculated as: IQR = Q3 − Q1\n",
    "\n",
    "- Where:\n",
    "    - Q1: Lower quartile (25th percentile).\n",
    "    - Q3: Upper quartile (75th percentile).\n",
    "- Outlier Detection:\n",
    "\n",
    "- Lower Bound: 𝑄1 − 1.5 × IQR\n",
    "- Upper Bound: 𝑄3 + 1.5 × IQR\n",
    "- Any value outside these bounds is considered an outlier."
   ]
  },
  {
   "cell_type": "code",
   "execution_count": 6,
   "id": "fc921992",
   "metadata": {},
   "outputs": [
    {
     "name": "stdout",
     "output_type": "stream",
     "text": [
      "IQR: 30.5, Lower Bound: -24.0, Upper Bound: 98.0\n"
     ]
    }
   ],
   "source": [
    "import numpy as np\n",
    "\n",
    "data = [21, 22, 45, 18, 32, 45, 74, 100]\n",
    "\n",
    "\n",
    "Q1 = np.percentile(data, 25)\n",
    "Q3 = np.percentile(data, 75)\n",
    "IQR = Q3 - Q1\n",
    "\n",
    "lower_bound = Q1 - 1.5 * IQR\n",
    "upper_bound = Q3 + 1.5 * IQR\n",
    "\n",
    "print(f\"IQR: {IQR}, Lower Bound: {lower_bound}, Upper Bound: {upper_bound}\")"
   ]
  },
  {
   "cell_type": "markdown",
   "id": "208e9f49",
   "metadata": {},
   "source": [
    "Q8 Discuss the conditions under which the binomial distribution is used.\n",
    "- the condition under which binomail distribution is aa follows:\n",
    "    - Fixed number of trials (n).\n",
    "    - Independent trials.\n",
    "    - Two outcomes: Success (p) or Failure (1−p).\n",
    "    - Constant probability."
   ]
  },
  {
   "cell_type": "markdown",
   "id": "8285a661",
   "metadata": {},
   "source": [
    "Q9 Explain the properties of the normal distribution and the empirical rule (68-95-99.7 rule).\n",
    "- Normal Distribution:\n",
    "    - Symmetric, bell-shaped curve.\n",
    "    - Parameters: Mean (μ), Standard Deviation (σ).\n",
    "- Empirical Rule:\n",
    "    - 68% of data within 1 SD (μ ± σ).\n",
    "    - 95% within 2 SD (μ ± 2σ).\n",
    "    - 99.7% within 3 SD (μ ± 3σ)."
   ]
  },
  {
   "cell_type": "markdown",
   "id": "ecd30c4e",
   "metadata": {},
   "source": [
    "Q10 Provide a real-life example of a Poisson process and calculate the probability for a specific event.\n",
    "- A common example of a Poisson process is the number of customer arrivals at a store in an hour. If customers arrive randomly but at a constant average rate, we can model the number of arrivals using a Poisson distribution.\n",
    "\n",
    "- Poisson Distribution Formula: The probability of exactly 𝑘 k events happening in a fixed interval is given by: P(X = k) = (λ^k ⋅ e^−λ)\n",
    "\n",
    "- Where:\n",
    "    - λ is the average number of events per interval.\n",
    "    - k is the number of events you want to calculate the probability for.\n",
    "    - e is Euler's number (approx. 2.71828).​"
   ]
  },
  {
   "cell_type": "markdown",
   "id": "534f1b3e",
   "metadata": {},
   "source": [
    "Q11 Explain what a random variable is and differentiate between discrete and continuous random variables.\n",
    "- Random Variable: Represents outcomes of a random phenomenon.\n",
    "- Discrete: Countable values such as number of students in class.\n",
    "- Continuous: Any value in an interval such as height of students."
   ]
  },
  {
   "cell_type": "code",
   "execution_count": 4,
   "id": "28f469e6",
   "metadata": {},
   "outputs": [
    {
     "name": "stdout",
     "output_type": "stream",
     "text": [
      "Covariance: 18.0\n",
      "Correlation: 0.9878783399072131\n"
     ]
    }
   ],
   "source": [
    "# Q12 Provide an example dataset, calculate both covariance and correlation, and interpret the results.\n",
    "import numpy as np\n",
    "\n",
    "hours_X = np.array([2, 3, 4, 5, 6])\n",
    "marks_Y = np.array([55, 65, 70, 85, 90])  \n",
    "\n",
    "mean_X = np.mean(hours_X)\n",
    "mean_Y = np.mean(marks_Y)\n",
    "\n",
    "cov_XY = np.mean((hours_X - mean_X) * (marks_Y - mean_Y))\n",
    "print(f\"Covariance: {cov_XY}\")\n",
    "\n",
    "std_X = np.std(hours_X)\n",
    "std_Y = np.std(marks_Y)\n",
    "\n",
    "correlation = cov_XY / (std_X * std_Y)\n",
    "print(f\"Correlation: {correlation}\")"
   ]
  }
 ],
 "metadata": {
  "kernelspec": {
   "display_name": "Python 3",
   "language": "python",
   "name": "python3"
  },
  "language_info": {
   "codemirror_mode": {
    "name": "ipython",
    "version": 3
   },
   "file_extension": ".py",
   "mimetype": "text/x-python",
   "name": "python",
   "nbconvert_exporter": "python",
   "pygments_lexer": "ipython3",
   "version": "3.13.1"
  }
 },
 "nbformat": 4,
 "nbformat_minor": 5
}
