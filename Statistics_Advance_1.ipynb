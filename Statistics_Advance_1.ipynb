{
 "cells": [
  {
   "cell_type": "markdown",
   "id": "faf420f3",
   "metadata": {},
   "source": [
    "Q1 What is a random variable in probability theory\n",
    "- A set of possible value from a random experiment"
   ]
  },
  {
   "cell_type": "markdown",
   "id": "c5d3363c",
   "metadata": {},
   "source": [
    "Q2 What are the types of random variables\n",
    "- j"
   ]
  },
  {
   "cell_type": "markdown",
   "id": "2509b8f7",
   "metadata": {},
   "source": [
    "Q3 What is the difference between discrete and continuous distributions"
   ]
  },
  {
   "cell_type": "markdown",
   "id": "6bb0320a",
   "metadata": {},
   "source": [
    "Q4 What are probability distribution functions (PDF)"
   ]
  },
  {
   "cell_type": "markdown",
   "id": "206ada93",
   "metadata": {},
   "source": [
    "Q5 How do cumulative distribution functions (CDF) differ from probability distribution functions (PDF)"
   ]
  },
  {
   "cell_type": "markdown",
   "id": "23e9f5ca",
   "metadata": {},
   "source": [
    "Q6 What is a discrete uniform distribution"
   ]
  },
  {
   "cell_type": "markdown",
   "id": "ffa65109",
   "metadata": {},
   "source": [
    "Q7 What are the key properties of a Bernoulli distribution"
   ]
  },
  {
   "cell_type": "markdown",
   "id": "8086af30",
   "metadata": {},
   "source": [
    "Q8 What is the binomial distribution, and how is it used in probability"
   ]
  },
  {
   "cell_type": "markdown",
   "id": "1ee2a30f",
   "metadata": {},
   "source": [
    "Q9 What is the Poisson distribution and where is it applied"
   ]
  },
  {
   "cell_type": "markdown",
   "id": "b6089717",
   "metadata": {},
   "source": [
    "Q10 What is a continuous uniform distribution"
   ]
  },
  {
   "cell_type": "markdown",
   "id": "7519e645",
   "metadata": {},
   "source": [
    "Q11 What are the characteristics of a normal distribution"
   ]
  },
  {
   "cell_type": "markdown",
   "id": "3264ff1b",
   "metadata": {},
   "source": [
    "Q12 What is the standard normal distribution, and why is it important"
   ]
  },
  {
   "cell_type": "markdown",
   "id": "3861afff",
   "metadata": {},
   "source": [
    "Q13 What is the Central Limit Theorem (CLT), and why is it critical in statistics"
   ]
  },
  {
   "cell_type": "markdown",
   "id": "eae9f932",
   "metadata": {},
   "source": [
    "Q14 How does the Central Limit Theorem relate to the normal distribution"
   ]
  },
  {
   "cell_type": "markdown",
   "id": "2507c92a",
   "metadata": {},
   "source": [
    "Q15 What is the application of Z statistics in hypothesis testing"
   ]
  },
  {
   "cell_type": "markdown",
   "id": "8ccb353d",
   "metadata": {},
   "source": [
    "Q16 How do you calculate a Z-score, and what does it represent"
   ]
  },
  {
   "cell_type": "markdown",
   "id": "d45d8e6d",
   "metadata": {},
   "source": [
    "Q17 What are point estimates and interval estimates in statistics"
   ]
  },
  {
   "cell_type": "markdown",
   "id": "9118fe43",
   "metadata": {},
   "source": [
    "Q18 What is the significance of confidence intervals in statistical analysis"
   ]
  },
  {
   "cell_type": "markdown",
   "id": "9a007630",
   "metadata": {},
   "source": [
    "Q19 What is the relationship between a Z-score and a confidence interval"
   ]
  },
  {
   "cell_type": "markdown",
   "id": "5fabfbac",
   "metadata": {},
   "source": [
    "Q20 How are Z-scores used to compare different distributions"
   ]
  },
  {
   "cell_type": "markdown",
   "id": "add67efd",
   "metadata": {},
   "source": [
    "Q21 What are the assumptions for applying the Central Limit Theorem"
   ]
  },
  {
   "cell_type": "markdown",
   "id": "663fd63d",
   "metadata": {},
   "source": [
    "Q22 What is the concept of expected value in a probability distribution"
   ]
  },
  {
   "cell_type": "markdown",
   "id": "5952cf0d",
   "metadata": {},
   "source": [
    "Q23 How does a probability distribution relate to the expected outcome of a random variable"
   ]
  },
  {
   "cell_type": "code",
   "execution_count": null,
   "id": "fd8e0241",
   "metadata": {},
   "outputs": [],
   "source": [
    "# Q1 Write a Python program to generate a random variable and display its value"
   ]
  },
  {
   "cell_type": "code",
   "execution_count": null,
   "id": "b6f9e760",
   "metadata": {},
   "outputs": [],
   "source": [
    "# Q2 Generate a discrete uniform distribution using Python and plot the probability mass function (PMF)"
   ]
  },
  {
   "cell_type": "code",
   "execution_count": null,
   "id": "21b2718b",
   "metadata": {},
   "outputs": [],
   "source": [
    "# Q3 Write a Python function to calculate the probability distribution function (PDF) of a Bernoulli distribution"
   ]
  },
  {
   "cell_type": "code",
   "execution_count": null,
   "id": "945e0638",
   "metadata": {},
   "outputs": [],
   "source": [
    "# Q4 Write a Python script to simulate a binomial distribution with n=10 and p=0.5, then plot its histogram"
   ]
  },
  {
   "cell_type": "code",
   "execution_count": null,
   "id": "c77722e0",
   "metadata": {},
   "outputs": [],
   "source": [
    "# Q5 Create a Poisson distribution and visualize it using Python"
   ]
  },
  {
   "cell_type": "code",
   "execution_count": null,
   "id": "5d6b74e5",
   "metadata": {},
   "outputs": [],
   "source": [
    "# Q6 Write a Python program to calculate and plot the cumulative distribution function (CDF) of a discrete uniform distribution"
   ]
  },
  {
   "cell_type": "code",
   "execution_count": null,
   "id": "ee504d24",
   "metadata": {},
   "outputs": [],
   "source": [
    "# Q7 Generate a continuous uniform distribution using NumPy and visualize it"
   ]
  },
  {
   "cell_type": "code",
   "execution_count": null,
   "id": "8dc578bc",
   "metadata": {},
   "outputs": [],
   "source": [
    "# Q8 Simulate data from a normal distribution and plot its histogram"
   ]
  },
  {
   "cell_type": "code",
   "execution_count": null,
   "id": "6703d78d",
   "metadata": {},
   "outputs": [],
   "source": [
    "# Q9 Write a Python function to calculate Z-scores from a dataset and plot them"
   ]
  },
  {
   "cell_type": "code",
   "execution_count": null,
   "id": "13a8ce34",
   "metadata": {},
   "outputs": [],
   "source": [
    "# Q10 Implement the Central Limit Theorem (CLT) using Python for a non-normal distribution"
   ]
  },
  {
   "cell_type": "code",
   "execution_count": null,
   "id": "6068a391",
   "metadata": {},
   "outputs": [],
   "source": [
    "# Q11 Simulate multiple samples from a normal distribution and verify the Central Limit Theorem"
   ]
  },
  {
   "cell_type": "code",
   "execution_count": null,
   "id": "a023892a",
   "metadata": {},
   "outputs": [],
   "source": [
    "# Q12 Write a Python function to calculate and plot the standard normal distribution (mean = 0, std = 1)"
   ]
  },
  {
   "cell_type": "code",
   "execution_count": null,
   "id": "2a1e400d",
   "metadata": {},
   "outputs": [],
   "source": [
    "# Q13 Generate random variables and calculate their corresponding probabilities using the binomial distribution"
   ]
  },
  {
   "cell_type": "code",
   "execution_count": null,
   "id": "094e1e70",
   "metadata": {},
   "outputs": [],
   "source": [
    "# Q14 Write a Python program to calculate the Z-score for a given data point and compare it to a standard normal distribution"
   ]
  },
  {
   "cell_type": "code",
   "execution_count": null,
   "id": "30654712",
   "metadata": {},
   "outputs": [],
   "source": [
    "# Q15 Implement hypothesis testing using Z-statistics for a sample dataset"
   ]
  },
  {
   "cell_type": "code",
   "execution_count": null,
   "id": "4c0be587",
   "metadata": {},
   "outputs": [],
   "source": [
    "# Q16 Create a confidence interval for a dataset using Python and interpret the result"
   ]
  },
  {
   "cell_type": "code",
   "execution_count": null,
   "id": "a010e550",
   "metadata": {},
   "outputs": [],
   "source": [
    "# Q17 Generate data from a normal distribution, then calculate and interpret the confidence interval for its mean"
   ]
  },
  {
   "cell_type": "code",
   "execution_count": null,
   "id": "c514fa64",
   "metadata": {},
   "outputs": [],
   "source": [
    "# Q18 Write a Python script to calculate and visualize the probability density function (PDF) of a normal distribution"
   ]
  },
  {
   "cell_type": "code",
   "execution_count": null,
   "id": "b913b63d",
   "metadata": {},
   "outputs": [],
   "source": [
    "# Q19 Use Python to calculate and interpret the cumulative distribution function (CDF) of a Poisson distribution"
   ]
  },
  {
   "cell_type": "code",
   "execution_count": null,
   "id": "478abe5a",
   "metadata": {},
   "outputs": [],
   "source": [
    "# Q20 Simulate a random variable using a continuous uniform distribution and calculate its expected value"
   ]
  },
  {
   "cell_type": "code",
   "execution_count": null,
   "id": "33128b19",
   "metadata": {},
   "outputs": [],
   "source": [
    "# Q21 Write a Python program to compare the standard deviations of two datasets and visualize the difference"
   ]
  },
  {
   "cell_type": "code",
   "execution_count": null,
   "id": "ffbb534a",
   "metadata": {},
   "outputs": [],
   "source": [
    "# Q22 Calculate the range and interquartile range (IQR) of a dataset generated from a normal distribution"
   ]
  },
  {
   "cell_type": "code",
   "execution_count": null,
   "id": "b0dbe19f",
   "metadata": {},
   "outputs": [],
   "source": [
    "# Q23 Implement Z-score normalization on a dataset and visualize its transformation"
   ]
  },
  {
   "cell_type": "code",
   "execution_count": null,
   "id": "23fc8565",
   "metadata": {},
   "outputs": [],
   "source": [
    "# Q24 Write a Python function to calculate the skewness and kurtosis of a dataset generated from a normal distribution"
   ]
  },
  {
   "cell_type": "code",
   "execution_count": null,
   "id": "03f04cbd",
   "metadata": {},
   "outputs": [],
   "source": [
    "# Q25 Simulate multiple samples from a normal distribution and verify the Central Limit Theorem"
   ]
  },
  {
   "cell_type": "code",
   "execution_count": null,
   "id": "ed22e6dd",
   "metadata": {},
   "outputs": [],
   "source": [
    "# Q26 Write a Python program to calculate the expected value of a random variable from a discrete distribution"
   ]
  },
  {
   "cell_type": "code",
   "execution_count": null,
   "id": "62ef560b",
   "metadata": {},
   "outputs": [],
   "source": [
    "# Q27 Generate data from a normal distribution and calculate probabilities for specific intervals"
   ]
  },
  {
   "cell_type": "code",
   "execution_count": null,
   "id": "9b50b494",
   "metadata": {},
   "outputs": [],
   "source": [
    "# Q28 5 Write a Python function to calculate the skewness and kurtosis of a dataset generated from a normal distribution."
   ]
  }
 ],
 "metadata": {
  "language_info": {
   "name": "python"
  }
 },
 "nbformat": 4,
 "nbformat_minor": 5
}
