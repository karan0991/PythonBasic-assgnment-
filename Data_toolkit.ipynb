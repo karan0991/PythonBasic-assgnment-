{
 "cells": [
  {
   "cell_type": "markdown",
   "id": "abf44ea7",
   "metadata": {},
   "source": [
    "Q1 What is NumPy, and why is it widely used in Python?\n",
    "- NumPy is a Python library for numerical computing. It provides a high-performance multidimensional array object and tools for working with these arrays. NumPy is widely used because of its speed, support for complex mathematical operations, and integration with other scientific computing libraries."
   ]
  },
  {
   "cell_type": "markdown",
   "id": "97f8a8f7",
   "metadata": {},
   "source": [
    "Q2 How does broadcasting work in NumPy?\n",
    "-  Broadcasting allows NumPy to perform element-wise operations on arrays of different shapes by expanding the smaller array along dimensions with size 1. It avoids creating unnecessary duplicate data and makes computations efficient."
   ]
  },
  {
   "cell_type": "markdown",
   "id": "07898f9e",
   "metadata": {},
   "source": [
    "Q3 What is a Pandas DataFrame?\n",
    "- A Pandas DataFrame is a two-dimensional, size-mutable, and heterogeneous tabular data structure. It is similar to a spreadsheet or SQL table and allows labeled indexing for rows and columns."
   ]
  },
  {
   "cell_type": "markdown",
   "id": "739ba957",
   "metadata": {},
   "source": [
    "Q4 Explain the use of the groupby() method in Pandas.\n",
    "- The groupby() method is used for grouping data based on one or more keys. After grouping, it allows performing aggregation or transformation operations like sum, mean, count, etc., on each group."
   ]
  },
  {
   "cell_type": "markdown",
   "id": "6375531c",
   "metadata": {},
   "source": [
    "Q5 Why is Seaborn preferred for statistical visualizations?\n",
    "- Seaborn is preferred for statistical visualizations because it provides high-level interfaces for creating aesthetically pleasing and informative plots. It has built-in themes and functions for statistical plots like histograms, heatmaps, and boxplots."
   ]
  },
  {
   "cell_type": "markdown",
   "id": "0f7649bc",
   "metadata": {},
   "source": [
    "Q6 What are the differences between NumPy arrays and Python lists?\n",
    "1. NumPy arrays support element-wise operations while Python lists do not.\n",
    "2. NumPy arrays are more memory-efficient and faster for numerical computations.\n",
    "3. NumPy supports multidimensional arrays, while Python lists are one-dimensional unless nested."
   ]
  },
  {
   "cell_type": "markdown",
   "id": "99fdc9cd",
   "metadata": {},
   "source": [
    "Q7 What is a heatmap, and when should it be used?\n",
    "- A heatmap is a graphical representation of data where values are represented using colors. It is used to visualize the intensity of data values across two dimensions, often for correlation matrices or frequency tables."
   ]
  },
  {
   "cell_type": "markdown",
   "id": "5c5d20db",
   "metadata": {},
   "source": [
    "Q8 What does the term 'vectorized operation' mean in NumPy?\n",
    "- A vectorized operation refers to applying operations element-wise on entire arrays without explicit loops. It leverages optimized C and Fortran libraries, making computations faster and more concise."
   ]
  },
  {
   "cell_type": "markdown",
   "id": "be0795d0",
   "metadata": {},
   "source": [
    "Q9 How does Matplotlib differ from Plotly?\n",
    "- Matplotlib creates static, publication-quality plots, while Plotly supports interactive, web-based visualizations.It also allows features like zooming and panning, which are limited in Matplotlib."
   ]
  },
  {
   "cell_type": "markdown",
   "id": "44f2b1b0",
   "metadata": {},
   "source": [
    "Q10 What is the significance of hierarchical indexing in Pandas?\n",
    "- Hierarchical indexing allows managing multiple index levels on a DataFrame or Series. It is useful for working with higher-dimensional data and performing operations like slicing or reshaping."
   ]
  },
  {
   "cell_type": "markdown",
   "id": "f4833fd7",
   "metadata": {},
   "source": [
    "Q11 What is the role of Seaborns pairplot() function?\n",
    "- The pairplot() function creates a grid of scatter plots and histograms to visualize pairwise relationships between numerical variables in a dataset."
   ]
  },
  {
   "cell_type": "markdown",
   "id": "fdcc9963",
   "metadata": {},
   "source": [
    "Q12 What is the purpose of the describe() function in Pandas?\n",
    "- The describe() function provides a summary of statistics such as mean, median, min, max, standard deviation ,for numeric columns in a DataFrame."
   ]
  },
  {
   "cell_type": "markdown",
   "id": "733e25b8",
   "metadata": {},
   "source": [
    "Q13 Why is handling missing data important in Pandas?\n",
    "- Missing data can lead to incorrect analysis or errors. Handling it such filling, dropping, or imputing missing values ensures data consistency and validity of results."
   ]
  },
  {
   "cell_type": "markdown",
   "id": "06981957",
   "metadata": {},
   "source": [
    "Q14 What are the benefits of using Plotly for data visualization?\n",
    "- Plotly provides interactive visualizations, supports 3D plots, and integrates with web-based applications easily. It is also highly customizable."
   ]
  },
  {
   "cell_type": "markdown",
   "id": "1983c149",
   "metadata": {},
   "source": [
    "Q15 How does NumPy handle multidimensional arrays?\n",
    "- NumPy provides n-dimensional arrays for handling multidimensional data. Operations like slicing, reshaping, and broadcasting work seamlessly on these arrays."
   ]
  },
  {
   "cell_type": "markdown",
   "id": "672dfa97",
   "metadata": {},
   "source": [
    "Q16 What is the role of Bokeh in data visualization?\n",
    "- Bokeh is a Python library for creating interactive visualizations in web browsers. It supports large datasets and allows embedding interactive plots into web applications."
   ]
  },
  {
   "cell_type": "markdown",
   "id": "1153b51a",
   "metadata": {},
   "source": [
    "Q17 Explain the difference between apply() and map() in Pandas.\n",
    "- apply() is used for applying a function to rows or columns of a DataFrame.\n",
    "- map() is used for applying a function element-wise to a Series."
   ]
  },
  {
   "cell_type": "markdown",
   "id": "8a81f4fe",
   "metadata": {},
   "source": [
    "Q18 What are some advanced features of NumPy?\n",
    "- some advanced features of NumPy are \n",
    "1. Support for broadcasting and vectorized operations.\n",
    "2. Linear algebra functions.\n",
    "3. Random number generation.\n",
    "4. Fourier transforms and advanced mathematical functions."
   ]
  },
  {
   "cell_type": "markdown",
   "id": "8c5a6fc3",
   "metadata": {},
   "source": [
    "Q19 How does Pandas simplify time series analysis?\n",
    "- Pandas provides functionality for date parsing, resampling, rolling window calculations, and handling irregular time intervals."
   ]
  },
  {
   "cell_type": "markdown",
   "id": "a7d1cfc4",
   "metadata": {},
   "source": [
    "Q20 What is the role of a pivot table in Pandas?\n",
    "- Pivot tables summarize data by grouping and aggregating values. They are helpful for analyzing and comparing data across multiple dimensions."
   ]
  },
  {
   "cell_type": "markdown",
   "id": "dec78b7c",
   "metadata": {},
   "source": [
    "Q21 Why is NumPy's array slicing faster than Python's list slicing?\n",
    "- NumPy uses memory-efficient views of the data without creating a new copy, whereas Python lists require creating a new object for slices."
   ]
  },
  {
   "cell_type": "markdown",
   "id": "db7b0cdc",
   "metadata": {},
   "source": [
    "Q22 What are some common use cases for Seaborn?\n",
    "- some common use cases for Seaborn are\n",
    "1. Visualizing distributions (e.g., histograms, KDE plots).\n",
    "2. Creating correlation heatmaps.\n",
    "3. Drawing pairwise relationships (pairplots).\n",
    "4. Visualizing categorical data with boxplots and violin plots."
   ]
  },
  {
   "cell_type": "code",
   "execution_count": 3,
   "id": "a419d3ac",
   "metadata": {},
   "outputs": [
    {
     "name": "stdout",
     "output_type": "stream",
     "text": [
      "2D Array:\n",
      " [[1 2 3]\n",
      " [0 1 2]\n",
      " [1 9 0]]\n",
      "Sum of each row in 2D Array: [ 6  3 10]\n"
     ]
    }
   ],
   "source": [
    "# Q1 How do you create a 2D NumPy array and calculate the sum of each row?\n",
    "import numpy as np\n",
    "\n",
    "arr_2d = np.array([[1, 2, 3], [0, 1, 2], [1, 9, 0]])\n",
    "\n",
    "row_sums = np.sum(arr_2d, axis=1)\n",
    "print(\"2D Array:\\n\", arr_2d)\n",
    "print(\"Sum of each row in 2D Array:\", row_sums)"
   ]
  },
  {
   "cell_type": "code",
   "execution_count": 6,
   "id": "f70f1ace",
   "metadata": {},
   "outputs": [
    {
     "name": "stdout",
     "output_type": "stream",
     "text": [
      "DataFrame:\n",
      "     A   B   C\n",
      "0  10  40  30\n",
      "1  10  10  30\n",
      "2  30  30  30\n",
      "Mean of column 'B': 30.0\n"
     ]
    }
   ],
   "source": [
    "# Q2 Write a Pandas script to find the mean of a specific column in a DataFrame.\n",
    "import pandas as pd\n",
    "\n",
    "data = {'A': [10, 10, 30], 'B': [40, 10, 30], 'C': [30, 30, 30]}\n",
    "df = pd.DataFrame(data)\n",
    "\n",
    "mean_C = df['C'].mean()\n",
    "print(\"DataFrame:\\n\", df)\n",
    "print(\"Mean of column 'B':\", mean_C)"
   ]
  },
  {
   "cell_type": "code",
   "execution_count": 9,
   "id": "b01fe6f3",
   "metadata": {},
   "outputs": [
    {
     "data": {
      "image/png": "[encoded data removed]",
      "text/plain": [
       "<Figure size 640x480 with 1 Axes>"
      ]
     },
     "metadata": {},
     "output_type": "display_data"
    }
   ],
   "source": [
    "# Q3 Create a scatter plot using Matplotlib.\n",
    "import matplotlib.pyplot as plt\n",
    "\n",
    "x = [1, 2, 3, 4, 5]\n",
    "y = [5, 4, 3, 2, 1]\n",
    "\n",
    "plt.scatter(x, y, color='yellow')\n",
    "plt.title(\"Scatter Plot Example\")\n",
    "plt.xlabel(\"X-axis\")\n",
    "plt.ylabel(\"Y-axis\")\n",
    "plt.show()"
   ]
  },
  {
   "cell_type": "code",
   "execution_count": 12,
   "id": "ef7788b6",
   "metadata": {},
   "outputs": [
    {
     "data": {
      "image/png": "[encoded data removed]",
      "text/plain": [
       "<Figure size 640x480 with 2 Axes>"
      ]
     },
     "metadata": {},
     "output_type": "display_data"
    }
   ],
   "source": [
    "# Q4 How do you calculate the correlation matrix using Seaborn and visualize it with a heatmap?\n",
    "import seaborn as sns\n",
    "\n",
    "data = {'A': [1, 2, 3], 'B': [1000, 500, 6], 'C': [11, 500, 9]}\n",
    "df = pd.DataFrame(data)\n",
    "\n",
    "correlation_matrix = df.corr()\n",
    "\n",
    "sns.heatmap(correlation_matrix, annot=True, cmap='coolwarm')\n",
    "plt.title(\"Correlation Matrix Heatmap\")\n",
    "plt.show()\n"
   ]
  },
  {
   "cell_type": "code",
   "execution_count": 15,
   "id": "fd894467",
   "metadata": {},
   "outputs": [
    {
     "data": {
      "application/vnd.plotly.v1+json": {
       "config": {
        "plotlyServerURL": "https://plot.ly"
       },
       "data": [
        {
         "alignmentgroup": "True",
         "hovertemplate": "Category=%{x}<br>Values=%{y}<extra></extra>",
         "legendgroup": "",
         "marker": {
          "color": "#636efa",
          "pattern": {
           "shape": ""
          }
         },
         "name": "",
         "offsetgroup": "",
         "orientation": "v",
         "showlegend": false,
         "textposition": "auto",
         "type": "bar",
         "x": [
          "A",
          "B",
          "C"
         ],
         "xaxis": "x",
         "y": [
          200,
          300,
          1000
         ],
         "yaxis": "y"
        }
       ],
       "layout": {
        "barmode": "relative",
        "legend": {
         "tracegroupgap": 0
        },
        "template": {
         "data": {
          "bar": [
           {
            "error_x": {
             "color": "#2a3f5f"
            },
            "error_y": {
             "color": "#2a3f5f"
            },
            "marker": {
             "line": {
              "color": "#E5ECF6",
              "width": 0.5
             },
             "pattern": {
              "fillmode": "overlay",
              "size": 10,
              "solidity": 0.2
             }
            },
            "type": "bar"
           }
          ],
          "barpolar": [
           {
            "marker": {
             "line": {
              "color": "#E5ECF6",
              "width": 0.5
             },
             "pattern": {
              "fillmode": "overlay",
              "size": 10,
              "solidity": 0.2
             }
            },
            "type": "barpolar"
           }
          ],
          "carpet": [
           {
            "aaxis": {
             "endlinecolor": "#2a3f5f",
             "gridcolor": "white",
             "linecolor": "white",
             "minorgridcolor": "white",
             "startlinecolor": "#2a3f5f"
            },
            "baxis": {
             "endlinecolor": "#2a3f5f",
             "gridcolor": "white",
             "linecolor": "white",
             "minorgridcolor": "white",
             "startlinecolor": "#2a3f5f"
            },
            "type": "carpet"
           }
          ],
          "choropleth": [
           {
            "colorbar": {
             "outlinewidth": 0,
             "ticks": ""
            },
            "type": "choropleth"
           }
          ],
          "contour": [
           {
            "colorbar": {
             "outlinewidth": 0,
             "ticks": ""
            },
            "colorscale": [
             [
              0,
              "#0d0887"
             ],
             [
              0.1111111111111111,
              "#46039f"
             ],
             [
              0.2222222222222222,
              "#7201a8"
             ],
             [
              0.3333333333333333,
              "#9c179e"
             ],
             [
              0.4444444444444444,
              "#bd3786"
             ],
             [
              0.5555555555555556,
              "#d8576b"
             ],
             [
              0.6666666666666666,
              "#ed7953"
             ],
             [
              0.7777777777777778,
              "#fb9f3a"
             ],
             [
              0.8888888888888888,
              "#fdca26"
             ],
             [
              1,
              "#f0f921"
             ]
            ],
            "type": "contour"
           }
          ],
          "contourcarpet": [
           {
            "colorbar": {
             "outlinewidth": 0,
             "ticks": ""
            },
            "type": "contourcarpet"
           }
          ],
          "heatmap": [
           {
            "colorbar": {
             "outlinewidth": 0,
             "ticks": ""
            },
            "colorscale": [
             [
              0,
              "#0d0887"
             ],
             [
              0.1111111111111111,
              "#46039f"
             ],
             [
              0.2222222222222222,
              "#7201a8"
             ],
             [
              0.3333333333333333,
              "#9c179e"
             ],
             [
              0.4444444444444444,
              "#bd3786"
             ],
             [
              0.5555555555555556,
              "#d8576b"
             ],
             [
              0.6666666666666666,
              "#ed7953"
             ],
             [
              0.7777777777777778,
              "#fb9f3a"
             ],
             [
              0.8888888888888888,
              "#fdca26"
             ],
             [
              1,
              "#f0f921"
             ]
            ],
            "type": "heatmap"
           }
          ],
          "heatmapgl": [
           {
            "colorbar": {
             "outlinewidth": 0,
             "ticks": ""
            },
            "colorscale": [
             [
              0,
              "#0d0887"
             ],
             [
              0.1111111111111111,
              "#46039f"
             ],
             [
              0.2222222222222222,
              "#7201a8"
             ],
             [
              0.3333333333333333,
              "#9c179e"
             ],
             [
              0.4444444444444444,
              "#bd3786"
             ],
             [
              0.5555555555555556,
              "#d8576b"
             ],
             [
              0.6666666666666666,
              "#ed7953"
             ],
             [
              0.7777777777777778,
              "#fb9f3a"
             ],
             [
              0.8888888888888888,
              "#fdca26"
             ],
             [
              1,
              "#f0f921"
             ]
            ],
            "type": "heatmapgl"
           }
          ],
          "histogram": [
           {
            "marker": {
             "pattern": {
              "fillmode": "overlay",
              "size": 10,
              "solidity": 0.2
             }
            },
            "type": "histogram"
           }
          ],
          "histogram2d": [
           {
            "colorbar": {
             "outlinewidth": 0,
             "ticks": ""
            },
            "colorscale": [
             [
              0,
              "#0d0887"
             ],
             [
              0.1111111111111111,
              "#46039f"
             ],
             [
              0.2222222222222222,
              "#7201a8"
             ],
             [
              0.3333333333333333,
              "#9c179e"
             ],
             [
              0.4444444444444444,
              "#bd3786"
             ],
             [
              0.5555555555555556,
              "#d8576b"
             ],
             [
              0.6666666666666666,
              "#ed7953"
             ],
             [
              0.7777777777777778,
              "#fb9f3a"
             ],
             [
              0.8888888888888888,
              "#fdca26"
             ],
             [
              1,
              "#f0f921"
             ]
            ],
            "type": "histogram2d"
           }
          ],
          "histogram2dcontour": [
           {
            "colorbar": {
             "outlinewidth": 0,
             "ticks": ""
            },
            "colorscale": [
             [
              0,
              "#0d0887"
             ],
             [
              0.1111111111111111,
              "#46039f"
             ],
             [
              0.2222222222222222,
              "#7201a8"
             ],
             [
              0.3333333333333333,
              "#9c179e"
             ],
             [
              0.4444444444444444,
              "#bd3786"
             ],
             [
              0.5555555555555556,
              "#d8576b"
             ],
             [
              0.6666666666666666,
              "#ed7953"
             ],
             [
              0.7777777777777778,
              "#fb9f3a"
             ],
             [
              0.8888888888888888,
              "#fdca26"
             ],
             [
              1,
              "#f0f921"
             ]
            ],
            "type": "histogram2dcontour"
           }
          ],
          "mesh3d": [
           {
            "colorbar": {
             "outlinewidth": 0,
             "ticks": ""
            },
            "type": "mesh3d"
           }
          ],
          "parcoords": [
           {
            "line": {
             "colorbar": {
              "outlinewidth": 0,
              "ticks": ""
             }
            },
            "type": "parcoords"
           }
          ],
          "pie": [
           {
            "automargin": true,
            "type": "pie"
           }
          ],
          "scatter": [
           {
            "fillpattern": {
             "fillmode": "overlay",
             "size": 10,
             "solidity": 0.2
            },
            "type": "scatter"
           }
          ],
          "scatter3d": [
           {
            "line": {
             "colorbar": {
              "outlinewidth": 0,
              "ticks": ""
             }
            },
            "marker": {
             "colorbar": {
              "outlinewidth": 0,
              "ticks": ""
             }
            },
            "type": "scatter3d"
           }
          ],
          "scattercarpet": [
           {
            "marker": {
             "colorbar": {
              "outlinewidth": 0,
              "ticks": ""
             }
            },
            "type": "scattercarpet"
           }
          ],
          "scattergeo": [
           {
            "marker": {
             "colorbar": {
              "outlinewidth": 0,
              "ticks": ""
             }
            },
            "type": "scattergeo"
           }
          ],
          "scattergl": [
           {
            "marker": {
             "colorbar": {
              "outlinewidth": 0,
              "ticks": ""
             }
            },
            "type": "scattergl"
           }
          ],
          "scattermapbox": [
           {
            "marker": {
             "colorbar": {
              "outlinewidth": 0,
              "ticks": ""
             }
            },
            "type": "scattermapbox"
           }
          ],
          "scatterpolar": [
           {
            "marker": {
             "colorbar": {
              "outlinewidth": 0,
              "ticks": ""
             }
            },
            "type": "scatterpolar"
           }
          ],
          "scatterpolargl": [
           {
            "marker": {
             "colorbar": {
              "outlinewidth": 0,
              "ticks": ""
             }
            },
            "type": "scatterpolargl"
           }
          ],
          "scatterternary": [
           {
            "marker": {
             "colorbar": {
              "outlinewidth": 0,
              "ticks": ""
             }
            },
            "type": "scatterternary"
           }
          ],
          "surface": [
           {
            "colorbar": {
             "outlinewidth": 0,
             "ticks": ""
            },
            "colorscale": [
             [
              0,
              "#0d0887"
             ],
             [
              0.1111111111111111,
              "#46039f"
             ],
             [
              0.2222222222222222,
              "#7201a8"
             ],
             [
              0.3333333333333333,
              "#9c179e"
             ],
             [
              0.4444444444444444,
              "#bd3786"
             ],
             [
              0.5555555555555556,
              "#d8576b"
             ],
             [
              0.6666666666666666,
              "#ed7953"
             ],
             [
              0.7777777777777778,
              "#fb9f3a"
             ],
             [
              0.8888888888888888,
              "#fdca26"
             ],
             [
              1,
              "#f0f921"
             ]
            ],
            "type": "surface"
           }
          ],
          "table": [
           {
            "cells": {
             "fill": {
              "color": "#EBF0F8"
             },
             "line": {
              "color": "white"
             }
            },
            "header": {
             "fill": {
              "color": "#C8D4E3"
             },
             "line": {
              "color": "white"
             }
            },
            "type": "table"
           }
          ]
         },
         "layout": {
          "annotationdefaults": {
           "arrowcolor": "#2a3f5f",
           "arrowhead": 0,
           "arrowwidth": 1
          },
          "autotypenumbers": "strict",
          "coloraxis": {
           "colorbar": {
            "outlinewidth": 0,
            "ticks": ""
           }
          },
          "colorscale": {
           "diverging": [
            [
             0,
             "#8e0152"
            ],
            [
             0.1,
             "#c51b7d"
            ],
            [
             0.2,
             "#de77ae"
            ],
            [
             0.3,
             "#f1b6da"
            ],
            [
             0.4,
             "#fde0ef"
            ],
            [
             0.5,
             "#f7f7f7"
            ],
            [
             0.6,
             "#e6f5d0"
            ],
            [
             0.7,
             "#b8e186"
            ],
            [
             0.8,
             "#7fbc41"
            ],
            [
             0.9,
             "#4d9221"
            ],
            [
             1,
             "#276419"
            ]
           ],
           "sequential": [
            [
             0,
             "#0d0887"
            ],
            [
             0.1111111111111111,
             "#46039f"
            ],
            [
             0.2222222222222222,
             "#7201a8"
            ],
            [
             0.3333333333333333,
             "#9c179e"
            ],
            [
             0.4444444444444444,
             "#bd3786"
            ],
            [
             0.5555555555555556,
             "#d8576b"
            ],
            [
             0.6666666666666666,
             "#ed7953"
            ],
            [
             0.7777777777777778,
             "#fb9f3a"
            ],
            [
             0.8888888888888888,
             "#fdca26"
            ],
            [
             1,
             "#f0f921"
            ]
           ],
           "sequentialminus": [
            [
             0,
             "#0d0887"
            ],
            [
             0.1111111111111111,
             "#46039f"
            ],
            [
             0.2222222222222222,
             "#7201a8"
            ],
            [
             0.3333333333333333,
             "#9c179e"
            ],
            [
             0.4444444444444444,
             "#bd3786"
            ],
            [
             0.5555555555555556,
             "#d8576b"
            ],
            [
             0.6666666666666666,
             "#ed7953"
            ],
            [
             0.7777777777777778,
             "#fb9f3a"
            ],
            [
             0.8888888888888888,
             "#fdca26"
            ],
            [
             1,
             "#f0f921"
            ]
           ]
          },
          "colorway": [
           "#636efa",
           "#EF553B",
           "#00cc96",
           "#ab63fa",
           "#FFA15A",
           "#19d3f3",
           "#FF6692",
           "#B6E880",
           "#FF97FF",
           "#FECB52"
          ],
          "font": {
           "color": "#2a3f5f"
          },
          "geo": {
           "bgcolor": "white",
           "lakecolor": "white",
           "landcolor": "#E5ECF6",
           "showlakes": true,
           "showland": true,
           "subunitcolor": "white"
          },
          "hoverlabel": {
           "align": "left"
          },
          "hovermode": "closest",
          "mapbox": {
           "style": "light"
          },
          "paper_bgcolor": "white",
          "plot_bgcolor": "#E5ECF6",
          "polar": {
           "angularaxis": {
            "gridcolor": "white",
            "linecolor": "white",
            "ticks": ""
           },
           "bgcolor": "#E5ECF6",
           "radialaxis": {
            "gridcolor": "white",
            "linecolor": "white",
            "ticks": ""
           }
          },
          "scene": {
           "xaxis": {
            "backgroundcolor": "#E5ECF6",
            "gridcolor": "white",
            "gridwidth": 2,
            "linecolor": "white",
            "showbackground": true,
            "ticks": "",
            "zerolinecolor": "white"
           },
           "yaxis": {
            "backgroundcolor": "#E5ECF6",
            "gridcolor": "white",
            "gridwidth": 2,
            "linecolor": "white",
            "showbackground": true,
            "ticks": "",
            "zerolinecolor": "white"
           },
           "zaxis": {
            "backgroundcolor": "#E5ECF6",
            "gridcolor": "white",
            "gridwidth": 2,
            "linecolor": "white",
            "showbackground": true,
            "ticks": "",
            "zerolinecolor": "white"
           }
          },
          "shapedefaults": {
           "line": {
            "color": "#2a3f5f"
           }
          },
          "ternary": {
           "aaxis": {
            "gridcolor": "white",
            "linecolor": "white",
            "ticks": ""
           },
           "baxis": {
            "gridcolor": "white",
            "linecolor": "white",
            "ticks": ""
           },
           "bgcolor": "#E5ECF6",
           "caxis": {
            "gridcolor": "white",
            "linecolor": "white",
            "ticks": ""
           }
          },
          "title": {
           "x": 0.05
          },
          "xaxis": {
           "automargin": true,
           "gridcolor": "white",
           "linecolor": "white",
           "ticks": "",
           "title": {
            "standoff": 15
           },
           "zerolinecolor": "white",
           "zerolinewidth": 2
          },
          "yaxis": {
           "automargin": true,
           "gridcolor": "white",
           "linecolor": "white",
           "ticks": "",
           "title": {
            "standoff": 15
           },
           "zerolinecolor": "white",
           "zerolinewidth": 2
          }
         }
        },
        "title": {
         "text": "Bar Plot"
        },
        "xaxis": {
         "anchor": "y",
         "domain": [
          0,
          1
         ],
         "title": {
          "text": "Category"
         }
        },
        "yaxis": {
         "anchor": "x",
         "domain": [
          0,
          1
         ],
         "title": {
          "text": "Values"
         }
        }
       }
      }
     },
     "metadata": {},
     "output_type": "display_data"
    }
   ],
   "source": [
    "# Q5 Generate a bar plot using Plotly.\n",
    "import plotly.express as px\n",
    "\n",
    "data = {'Category': ['A', 'B', 'C'], 'Values': [200, 300, 1000]}\n",
    "df = pd.DataFrame(data)\n",
    "\n",
    "fig = px.bar(df, x='Category', y='Values', title='Bar Plot')\n",
    "fig.show()\n"
   ]
  },
  {
   "cell_type": "code",
   "execution_count": 17,
   "id": "fe10fc37",
   "metadata": {},
   "outputs": [
    {
     "name": "stdout",
     "output_type": "stream",
     "text": [
      "DataFrame with new column:\n",
      "    A  B  C\n",
      "0  1  2  3\n",
      "1  1  2  3\n",
      "2  1  2  3\n"
     ]
    }
   ],
   "source": [
    "# Q6 Create a DataFrame and add a new column based on an existing column.\n",
    "data = {'A': [1, 1, 1], 'B': [2, 2, 2]}\n",
    "df = pd.DataFrame(data)\n",
    "\n",
    "df['C'] = df['A'] + df['B']\n",
    "print(\"DataFrame with new column:\\n\", df)"
   ]
  },
  {
   "cell_type": "code",
   "execution_count": 21,
   "id": "18bfe5cb",
   "metadata": {},
   "outputs": [
    {
     "name": "stdout",
     "output_type": "stream",
     "text": [
      "Result of element-wise multiplication: [2 4 4]\n"
     ]
    }
   ],
   "source": [
    "# Q7 Write a program to perform element-wise multiplication of two NumPy arrays.\n",
    "arry = np.array([2, 2, 2])\n",
    "arr2 = np.array([1, 2, 2])\n",
    "\n",
    "result = arry * arr2\n",
    "\n",
    "print(\"Result of element-wise multiplication:\", result)"
   ]
  },
  {
   "cell_type": "code",
   "execution_count": 22,
   "id": "eb06dc68",
   "metadata": {},
   "outputs": [
    {
     "data": {
      "image/png": "[encoded data removed]",
      "text/plain": [
       "<Figure size 640x480 with 1 Axes>"
      ]
     },
     "metadata": {},
     "output_type": "display_data"
    }
   ],
   "source": [
    "# Q8 Create a line plot with multiple lines using Matplotlib.\n",
    "x = [1, 2, 3, 4, 5]\n",
    "y1 = [2, 4, 6, 8, 10]\n",
    "y2 = [1, 3, 5, 7, 9]\n",
    "plt.plot(x, y1, label='Line 1', color='red')\n",
    "plt.plot(x, y2, label='Line 2', color='yellow')\n",
    "plt.title(\"Line Plot with Multiple Lines\")\n",
    "plt.xlabel(\"X-axis\")\n",
    "plt.ylabel(\"Y-axis\")\n",
    "plt.legend()\n",
    "plt.show()\n"
   ]
  },
  {
   "cell_type": "code",
   "execution_count": 28,
   "id": "4490a6e1",
   "metadata": {},
   "outputs": [
    {
     "name": "stdout",
     "output_type": "stream",
     "text": [
      "Filtered DataFrame:\n",
      "     A   B\n",
      "1  20  50\n",
      "2  30  60\n"
     ]
    }
   ],
   "source": [
    "# Q9 Generate a Pandas DataFrame and filter rows where a column value is greater than a threshold\n",
    "data = {'A': [10, 20, 30], 'B': [40, 50, 60]}\n",
    "df = pd.DataFrame(data)\n",
    "\n",
    "filtered_df = df[df['A'] > 15]\n",
    "print(\"Filtered DataFrame:\\n\", filtered_df)\n"
   ]
  },
  {
   "cell_type": "code",
   "execution_count": 25,
   "id": "831ba256",
   "metadata": {},
   "outputs": [
    {
     "data": {
      "image/png": "[encoded data removed]",
      "text/plain": [
       "<Figure size 640x480 with 1 Axes>"
      ]
     },
     "metadata": {},
     "output_type": "display_data"
    }
   ],
   "source": [
    "# Q10 Create a histogram using Seaborn to visualize a distribution.\n",
    "data = [1, 2, 2, 3, 3, 3, 4, 4, 5]\n",
    "\n",
    "sns.histplot(data, bins=5, kde=True)\n",
    "plt.title(\"Histogram Example\")\n",
    "plt.xlabel(\"Value\")\n",
    "plt.ylabel(\"Frequency\")\n",
    "plt.show()\n"
   ]
  },
  {
   "cell_type": "code",
   "execution_count": 30,
   "id": "2845305a",
   "metadata": {},
   "outputs": [
    {
     "name": "stdout",
     "output_type": "stream",
     "text": [
      "Result of matrix multiplication:\n",
      " [[2 2]\n",
      " [2 2]]\n"
     ]
    }
   ],
   "source": [
    "# Q11 Perform matrix multiplication using NumPy.\n",
    "matrix1 = np.array([[1, 1], [1, 1]])\n",
    "matrix2 = np.array([[1, 1], [1, 1]])\n",
    "\n",
    "result = np.dot(matrix1, matrix2)\n",
    "print(\"Result of matrix multiplication:\\n\", result)"
   ]
  },
  {
   "cell_type": "code",
   "execution_count": 12,
   "id": "4d004d14",
   "metadata": {},
   "outputs": [],
   "source": [
    "# Q12 Use Pandas to load a CSV file and display its first 5 rows.\n",
    "df = pd.read_csv('test.csv')\n",
    "print(\"First 5 rows of the DataFrame:\\n\", df.head())"
   ]
  },
  {
   "cell_type": "code",
   "execution_count": 13,
   "id": "be19d6a4",
   "metadata": {},
   "outputs": [],
   "source": [
    "# Q13 Create a 3D scatter plot using Plotly."
   ]
  }
 ],
 "metadata": {
  "kernelspec": {
   "display_name": "Python 3",
   "language": "python",
   "name": "python3"
  },
  "language_info": {
   "codemirror_mode": {
    "name": "ipython",
    "version": 3
   },
   "file_extension": ".py",
   "mimetype": "text/x-python",
   "name": "python",
   "nbconvert_exporter": "python",
   "pygments_lexer": "ipython3",
   "version": "3.13.1"
  }
 },
 "nbformat": 4,
 "nbformat_minor": 5
}
