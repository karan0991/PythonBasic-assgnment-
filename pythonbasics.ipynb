{
 "cells": [
  {
   "cell_type": "markdown",
   "metadata": {},
   "source": [
    "Q1 What is Python, and why is it popular ?\n",
    "- python is a programming language that is use to communicate with computers and Python is multi-paradigm, which does tend to make it a good programming language for novices and for experts alike. It has an enormous number of libraries and frameworks to aid you in developments such as web programming, data science, artificial intelligence, automation, and scientific computing. It has learned syntax, platform independence, active communities, as well as a lot of other things that contribute to its popularity, but most of all it has been recognized by big companies such as Google or Netflix, which means it easily solves problems with the efficiency of real-world applicability"
   ]
  },
  {
   "cell_type": "markdown",
   "metadata": {},
   "source": [
    "Q2 What is an interpreter in Python ?\n",
    "- When a program or interpreter is executed in Python, it reads and executes Python code line by line. It interprets code interactively, executing it directly without the process of generating a separate executable file. This allows one to do quick testing and debugging."
   ]
  },
  {
   "cell_type": "markdown",
   "metadata": {},
   "source": [
    "Q3  What are pre-defined keywords in Python ?\n",
    "- Pre-defined keywords in Python are reserved words that have special meanings and purposes, such as if, else, while, True, and None. They cannot be used as variable names or identifiers."
   ]
  },
  {
   "cell_type": "markdown",
   "metadata": {},
   "source": [
    "Q4 Can keywords be used as variable names ?\n",
    "- No, keywords cannot be used as variable names in Python because they are reserved for specific syntax and functionality. For example, if = 5 will raise a syntax error."
   ]
  },
  {
   "cell_type": "markdown",
   "metadata": {},
   "source": [
    "Q5 What is mutability in Python ?\n",
    "- Mutability refers to an object’s ability to change its value after being created. Mutable objects such as list can be modified it's elements after being created"
   ]
  },
  {
   "cell_type": "markdown",
   "metadata": {},
   "source": [
    "Q6 Why are lists mutable, but tuples are immutable ?\n",
    "- Lists are mutable because they are designed to allow modifications like adding, removing, or changing elements. Tuples are immutable to ensure they remain constant and hashable, making them suitable as dictionary keys and for use in scenarios requiring fixed collections."
   ]
  },
  {
   "cell_type": "markdown",
   "metadata": {},
   "source": [
    "Q7 What’s the difference between == and is in Python?\n",
    "- == checks if two values are the same and IS checks if two objects are actually the same thing in memory."
   ]
  },
  {
   "cell_type": "markdown",
   "metadata": {},
   "source": [
    "Q8 What are logical operators in Python?\n",
    "- Logical operators (and, or, not) let you combine conditions. For example, you can check if two things are true or if one of them is true."
   ]
  },
  {
   "cell_type": "markdown",
   "metadata": {},
   "source": [
    "Q9 What is type casting in Python ?\n",
    "- The process of converting the data type of a values/objects "
   ]
  },
  {
   "cell_type": "markdown",
   "metadata": {},
   "source": [
    "Q10 What’s the difference between implicit and explicit type casting ?\n",
    "- Implicit: Python does it for you, like turning 5 + 2.0 into 7.0.\n",
    "- Explicit: You do it yourself, like using int('123') to turn a string into a number."
   ]
  },
  {
   "cell_type": "markdown",
   "metadata": {},
   "source": [
    "Q11 What’s the purpose of conditional statements in Python ?\n",
    "- the purpose of conditional statements is that it help you to code decision based on one set of pre-condition"
   ]
  },
  {
   "cell_type": "markdown",
   "metadata": {},
   "source": [
    "Q12 How does elif work?\n",
    "- elif adds extra conditions to an if statement. Python checks them one by one until it finds a match"
   ]
  },
  {
   "cell_type": "markdown",
   "metadata": {},
   "source": [
    "Q13 What’s the difference between for and while loops ?\n",
    "- A for loop is used when you know exactly how many times you want to repeat a block of code\n",
    "- while loop is used when you don't know the number of iterations in advance and instead rely on a condition to determine when to stop looping"
   ]
  },
  {
   "cell_type": "markdown",
   "metadata": {},
   "source": [
    "Q14 When is a while loop better than a for loop ?\n",
    "- When you don’t know beforehand how many times the loop will run, like waiting for the user to guess a secret number"
   ]
  },
  {
   "cell_type": "code",
   "execution_count": null,
   "metadata": {},
   "outputs": [],
   "source": [
    "# Q1 Write a Python program to print 'Hello, World!'\n",
    "print(\"Hello, World!\")"
   ]
  },
  {
   "cell_type": "code",
   "execution_count": null,
   "metadata": {},
   "outputs": [],
   "source": [
    "# Q2 Write a Python program that displays your name and age\n",
    "print(\"Name: Karan Patel\\nAge: 19\")"
   ]
  },
  {
   "cell_type": "code",
   "execution_count": null,
   "metadata": {},
   "outputs": [],
   "source": [
    "# Q3 Write code to print all the pre-defined keywords in Python \n",
    "help(\"keywords\")"
   ]
  },
  {
   "cell_type": "code",
   "execution_count": null,
   "metadata": {},
   "outputs": [],
   "source": [
    "# Q4 Write a program to check if a given word is a Python keyword \n",
    "import keyword\n",
    "word = input('Enter a word: ')\n",
    "if(keyword.iskeyword(word)):\n",
    "    print(f\"Yes, \\\"{word}\\\" a keyword.\")\n",
    "else:\n",
    "    print(f\"No, \\\"{word}\\\" a keyword.\")"
   ]
  },
  {
   "cell_type": "code",
   "execution_count": null,
   "metadata": {},
   "outputs": [],
   "source": [
    "# Q5  Create a list and tuple in Python, and demonstrate how attempting to change an element works differently for each \n",
    "my_list = [1, 2, 3]\n",
    "my_list[0] = 10\n",
    "print(my_list)\n",
    "\n",
    "my_tuple = (1, 2, 3)\n",
    "# my_tuple[0] = 10  # Error \n",
    "print(my_tuple)"
   ]
  },
  {
   "cell_type": "code",
   "execution_count": null,
   "metadata": {},
   "outputs": [],
   "source": [
    "# Q6,Q7 Write a function to demonstrate mutable vs. immutable arguments.\n",
    "def demonstrate_mutable_vs_immutable(my_tuple, my_list):\n",
    "    print(f\"Original immutable argument (my_tuple): {my_tuple}\")\n",
    "    my_tuple += 10  # This creates a new integer object, doesn't change the original\n",
    "    print(f\"Modified immutable argument (my_tuple inside function): {my_tuple}\")\n",
    "\n",
    "    print(f\"\\nOriginal mutable argument (my_list): {my_list}\")\n",
    "    my_list.append(10)  # This modifies the original list object\n",
    "    print(f\"Modified mutable argument (my_list inside function): {my_list}\")\n",
    "\n",
    "# Main program to test the function\n",
    "immutable_example = 5\n",
    "mutable_example = [1, 2, 3] \n",
    "\n",
    "print(\"Before function call:\")\n",
    "print(f\"Immutable example: {immutable_example}\")\n",
    "print(f\"Mutable example: {mutable_example}\\n\")\n",
    "\n",
    "demonstrate_mutable_vs_immutable(immutable_example, mutable_example)\n",
    "\n",
    "print(\"\\nAfter function call:\")\n",
    "print(f\"Immutable example: {immutable_example}\")  # Unchanged\n",
    "print(f\"Mutable example: {mutable_example}\")  # Changed\n"
   ]
  },
  {
   "cell_type": "code",
   "execution_count": null,
   "metadata": {},
   "outputs": [],
   "source": [
    "# Q8 Write program to demonstrate logical operators\n",
    "print(True and False)  # false\n",
    "print(True and True)  # True\n",
    "print(True or False)   # true\n",
    "print(False or False)   # false\n",
    "print(not True) #false"
   ]
  },
  {
   "cell_type": "code",
   "execution_count": null,
   "metadata": {},
   "outputs": [],
   "source": [
    "# Q9 Write a Python program to convert user input to integer, float, and boolean.\n",
    "user_input = input('Enter a integer number: ')\n",
    "print(int(user_input), float(user_input), bool(user_input))"
   ]
  },
  {
   "cell_type": "code",
   "execution_count": null,
   "metadata": {},
   "outputs": [],
   "source": [
    "# Q10 Write code to demonstrate type casting with list elements.\n",
    "int_list = [1, 2, 3]\n",
    "print(f\"Before type casting: {int_list}\")\n",
    "int_list = [float(x) for x in int_list]\n",
    "print(f\"After type casting: {int_list}\")\n"
   ]
  },
  {
   "cell_type": "code",
   "execution_count": null,
   "metadata": {},
   "outputs": [],
   "source": [
    "#Q11 Write a program to check if a number is positive, negative, or zero.\n",
    "num = int(input('Enter a number: '))\n",
    "if num > 0:\n",
    "    print('Positive')\n",
    "elif num < 0:\n",
    "    print('Negative')\n",
    "else:\n",
    "    print('Zero')"
   ]
  },
  {
   "cell_type": "code",
   "execution_count": null,
   "metadata": {},
   "outputs": [],
   "source": [
    "# Q12 Write a for loop to print numbers from 1 to 10\n",
    "for i in range(1, 11):\n",
    "    print(i,end =\" \")"
   ]
  },
  {
   "cell_type": "code",
   "execution_count": null,
   "metadata": {},
   "outputs": [],
   "source": [
    "# Q13 Write a Python program to find the sum of all even numbers between 1 and 50\n",
    "sum1=0\n",
    "for i in range(1,51):\n",
    "    if(i%2 ==0):\n",
    "        sum1 +=i\n",
    "print(sum1)"
   ]
  },
  {
   "cell_type": "code",
   "execution_count": null,
   "metadata": {},
   "outputs": [],
   "source": [
    "# Q14 Write a program to reverse a string using a while loop\n",
    "s = \"hello,world!\"\n",
    "reversed_s = ''\n",
    "i = len(s) - 1\n",
    "while i >= 0:\n",
    "    reversed_s += s[i]\n",
    "    i -= 1\n",
    "print(reversed_s)"
   ]
  },
  {
   "cell_type": "code",
   "execution_count": null,
   "metadata": {},
   "outputs": [],
   "source": [
    "# Q15 Write a Python program to calculate the factorial of a number provided by the user using a while loop\n",
    "num = int(input('Enter a number: '))\n",
    "fact=1\n",
    "i = 1\n",
    "while i <= num:\n",
    "    fact *= i\n",
    "    i += 1\n",
    "print(f'Factorial: {fact}')"
   ]
  }
 ],
 "metadata": {
  "kernelspec": {
   "display_name": ".venv",
   "language": "python",
   "name": "python3"
  },
  "language_info": {
   "codemirror_mode": {
    "name": "ipython",
    "version": 3
   },
   "file_extension": ".py",
   "mimetype": "text/x-python",
   "name": "python",
   "nbconvert_exporter": "python",
   "pygments_lexer": "ipython3",
   "version": "3.13.0"
  }
 },
 "nbformat": 4,
 "nbformat_minor": 2
}
