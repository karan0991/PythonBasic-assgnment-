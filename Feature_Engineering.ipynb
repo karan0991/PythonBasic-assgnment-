{
 "cells": [
  {
   "cell_type": "markdown",
   "id": "81db332d",
   "metadata": {},
   "source": [
    "Q1 What is a parameter?\n",
    "- A parameter is a value that the model learns during training. It helps the model make predictions, like weights and biases in a neural network."
   ]
  },
  {
   "cell_type": "markdown",
   "id": "1d68b4cd",
   "metadata": {},
   "source": [
    "Q2/Q12/Q13 What is correlation?What does negative correlation mean?\n",
    "-  Correlation measures how two variables are related. It shows if one variable increases or decreases with another.\n",
    "- Negative correlation means when one variable increases, the other decreases. For example, as temperature increases, the need for blankets decreases."
   ]
  },
  {
   "cell_type": "markdown",
   "id": "088b3285",
   "metadata": {},
   "source": [
    "Q3 Define Machine Learning. What are the main components in Machine Learning?\n",
    "- Machine Learning is a way for computers to learn from data and make decisions without being explicitly programmed. Its main components are data, algorithms, models, and evaluation metrics."
   ]
  },
  {
   "cell_type": "markdown",
   "id": "d30660b6",
   "metadata": {},
   "source": [
    "Q4 How does loss value help in determining whether the model is good or not?\n",
    "- loss value shows how far off the model's predictions are from actual results. A lower loss means a better model."
   ]
  },
  {
   "cell_type": "markdown",
   "id": "ef9e3d90",
   "metadata": {},
   "source": [
    "Q5 What are continuous and categorical variables?\n",
    "- Continuous variables are numerical and can take any value, like height or temperature. Categorical variables are groups or categories,such as colors or genders."
   ]
  },
  {
   "cell_type": "markdown",
   "id": "a5f1ed2d",
   "metadata": {},
   "source": [
    "Q6 How do we handle categorical variables in Machine Learning? What are the common techniques?\n",
    "- We convert categorical data into numbers using methods like one-hot encoding or label encoding"
   ]
  },
  {
   "cell_type": "markdown",
   "id": "24b6621b",
   "metadata": {},
   "source": [
    "Q7 What do you mean by training and testing a dataset?\n",
    "- Training data is used to teach the model, while testing data checks if the model works well on new, unseen data"
   ]
  },
  {
   "cell_type": "markdown",
   "id": "3f6d36e9",
   "metadata": {},
   "source": [
    "Q8,Q23 What is sklearn.preprocessing?\n",
    "- It’s a Python library module that helps prepare data by scaling, encoding, or transforming it for machine learning."
   ]
  },
  {
   "cell_type": "markdown",
   "id": "355fcb64",
   "metadata": {},
   "source": [
    "Q9 What is a Test set?\n",
    "- A test set is a part of the dataset used to check how well the trained model performs."
   ]
  },
  {
   "cell_type": "markdown",
   "id": "10913c5b",
   "metadata": {},
   "source": [
    "Q10,Q24 How do we split data for model fitting (training and testing) in Python? How do you approach a Machine Learning problem?\n",
    "- We use libraries like train_test_split from sklearn to divide data into training and testing sets, usually in an 80:20 or 70:30 ratio.Understand the problem. Gather and clean the data. Perform Exploratory Data Analysis (EDA). Choose and train a model. Test the model and improve it if needed. Deploy the model."
   ]
  },
  {
   "cell_type": "markdown",
   "id": "7d08184a",
   "metadata": {},
   "source": [
    "Q11 Why do we have to perform EDA before fitting a model to the data?\n",
    "-  EDA helps us understand the data's patterns, relationships, and issues like missing values or outliers, which improves the model's accuracy."
   ]
  },
  {
   "cell_type": "markdown",
   "id": "bab4de56",
   "metadata": {},
   "source": [
    "Q14 How can you find correlation between variables in Python?\n",
    "- Use the corr() function in Pandas or visualization tools like seaborn.heatmap() to see relationships between variables."
   ]
  },
  {
   "cell_type": "markdown",
   "id": "dde7bc87",
   "metadata": {},
   "source": [
    "Q15 What is causation? Explain difference between correlation and causation with an example.\n",
    "- Causation means one variable directly affects another. For example: Eating healthy (cause) improves health (effect). Correlation shows a relationship but doesn’t prove one causes the other."
   ]
  },
  {
   "cell_type": "markdown",
   "id": "e8ed9e9a",
   "metadata": {},
   "source": [
    "Q16 What is an Optimizer? What are different types of optimizers? Explain each with an example.\n",
    "- An optimizer adjusts model parameters to minimize loss. Examples:\n",
    "    - Gradient Descent: Simple and widely used.\n",
    "    - Adam Optimizer: Combines momentum and RMSProp for efficiency.\n",
    "    - RMSProp: Works well for non-stationary data."
   ]
  },
  {
   "cell_type": "markdown",
   "id": "b76cf971",
   "metadata": {},
   "source": [
    "Q17 What is sklearn.linear_model ?\n",
    "- It's a Python module in sklearn that includes linear models such as Linear Regression, Logistic Regression, etc."
   ]
  },
  {
   "cell_type": "markdown",
   "id": "1a05eb7e",
   "metadata": {},
   "source": [
    "Q18 What does model.fit() do? What arguments must be given?\n",
    "- model.fit() trains the model using input data and target values. It requires arguments like X (features) and y (labels)."
   ]
  },
  {
   "cell_type": "markdown",
   "id": "259cf52b",
   "metadata": {},
   "source": [
    "Q19 What does model.predict() do? What arguments must be given?\n",
    "- model.predict() uses the trained model to make predictions. It needs X_test, the input data for predictions."
   ]
  },
  {
   "cell_type": "markdown",
   "id": "259b3604",
   "metadata": {},
   "source": [
    "Q20 What are continuous and categorical variables?\n",
    "- Continuous variables are numerical and can take any value, like height or temperature. Categorical variables are groups or categories, such as colors or genders."
   ]
  },
  {
   "cell_type": "markdown",
   "id": "52f90c5e",
   "metadata": {},
   "source": [
    "Q21 What is feature scaling? How does it help in Machine Learning?\n",
    "- Feature scaling ensures all variables have a similar scale, improving model accuracy and training speed."
   ]
  },
  {
   "cell_type": "markdown",
   "id": "4a0888db",
   "metadata": {},
   "source": [
    "Q22 How do we perform scaling in Python?\n",
    "- Use StandardScaler or MinMaxScaler from sklearn.preprocessing to normalize or standardize the data"
   ]
  },
  {
   "cell_type": "markdown",
   "id": "8b64321b",
   "metadata": {},
   "source": [
    "Q25 Explain data encoding?\n",
    "-  Data encoding converts categorical data into numerical format so models can process it, using methods like one-hot encoding or label encoding."
   ]
  }
 ],
 "metadata": {
  "language_info": {
   "name": "python"
  }
 },
 "nbformat": 4,
 "nbformat_minor": 5
}
