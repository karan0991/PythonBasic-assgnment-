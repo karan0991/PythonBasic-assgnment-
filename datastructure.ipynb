{
 "cells": [
  {
   "cell_type": "markdown",
   "metadata": {},
   "source": [
    "Q1 What are data structures, and why are they important ?\n",
    "-  A way of storing data so that it can be accessed and manipulated efficiently,they are crucial because they enable algorithms to work efficiently, optimize memory usage, and solve problems effectively."
   ]
  },
  {
   "cell_type": "markdown",
   "metadata": {},
   "source": [
    "Q2 Explain the difference between mutable and immutable data types with examples ?\n",
    "- mutable is a data type that can be modified after being created such as list.For example my_list = [1, 2]; my_list[0] = 3 changes the first element\n",
    "- immutableis a data type that cannot be modified after being created such as string.For example my_string = \"hey\"; my_string[0] = 'H' raises an error"
   ]
  },
  {
   "cell_type": "markdown",
   "metadata": {},
   "source": [
    "Q3  What are the main differences between lists and tuples in Python ?\n",
    "- lists is mutable, dynamic in size ,uses square brackets []\n",
    "- tuples is immutable , fixed in size, uses parentheses ()"
   ]
  },
  {
   "cell_type": "markdown",
   "metadata": {},
   "source": [
    "Q4 Describe how dictionaries store data.\n",
    "- Dictionaries store data as key-value pairs in a hash table, where each key is unique, and values are accessed using these keys."
   ]
  },
  {
   "cell_type": "markdown",
   "metadata": {},
   "source": [
    "Q5 Why might you use a set instead of a list in Python ?\n",
    "- Sets are used when unique elements are required, and they allow fast membership testing. "
   ]
  },
  {
   "cell_type": "markdown",
   "metadata": {},
   "source": [
    "Q6 What is a string in Python, and how is it different from a list ?\n",
    "-  Strings are sequences of characters and are immutable, while lists can hold various data types and are mutable"
   ]
  },
  {
   "cell_type": "markdown",
   "metadata": {},
   "source": [
    "Q7 How do tuples ensure data integrity in Python ?\n",
    "-    Tuples are immutable, ensuring that their contents remain constant, which is ideal for maintaining data consistency."
   ]
  },
  {
   "cell_type": "markdown",
   "metadata": {},
   "source": [
    "Q8 What is a hash table, and how does it relate to dictionaries in Python ?\n",
    "- A hash table is a data structure that uses a hash function to map keys to values for efficient lookups. Python dictionaries use hash tables under the hood."
   ]
  },
  {
   "cell_type": "markdown",
   "metadata": {},
   "source": [
    "Q9 Can lists contain different data types in Python ?\n",
    "- Yes, lists in Python can hold elements of mixed types."
   ]
  },
  {
   "cell_type": "markdown",
   "metadata": {},
   "source": [
    "Q10 Explain why strings are immutable in Python \n",
    "- Strings are immutable to allow safe sharing and efficient memory usage, especially since they are frequently used as keys in dictionaries"
   ]
  },
  {
   "cell_type": "markdown",
   "metadata": {},
   "source": [
    "Q11 What advantages do dictionaries offer over lists for certain tasks ?\n",
    "- Dictionaries provide O(1) time complexity for lookups, while lists require O(n) for searching "
   ]
  },
  {
   "cell_type": "markdown",
   "metadata": {},
   "source": [
    "Q12 Describe a scenario where using a tuple would be preferable over a list \n",
    "- When storing coordinates, tuples are preferred to ensure data integrity."
   ]
  },
  {
   "cell_type": "markdown",
   "metadata": {},
   "source": [
    "Q13 How do sets handle duplicate values in Python ?\n",
    "- Sets automatically discard duplicate elements"
   ]
  },
  {
   "cell_type": "markdown",
   "metadata": {},
   "source": [
    "Q14 How does the in keyword work differently for lists and dictionaries?\n",
    "- For lists, it checks for the presence of a value. For dictionaries, it checks for the presence of a key."
   ]
  },
  {
   "cell_type": "markdown",
   "metadata": {},
   "source": [
    "Q15 Can you modify the elements of a tuple? Explain why or why not\n",
    "- No, because tuples are immutable."
   ]
  },
  {
   "cell_type": "markdown",
   "metadata": {},
   "source": [
    "Q16 What is a nested dictionary, and give an example of its use case.\n",
    "- A nested dictionary contains another dictionary as its value. \n",
    "- for example student_data = {\"John\": {\"age\": 21, \"grade\": \"A\"}}"
   ]
  },
  {
   "cell_type": "markdown",
   "metadata": {},
   "source": [
    "Q17 Describe the time complexity of accessing elements in a dictionary.\n",
    "- Accessing elements in a dictionary has an average-case time complexity of O(1)."
   ]
  },
  {
   "cell_type": "markdown",
   "metadata": {},
   "source": [
    "Q18 In what situations are lists preferred over dictionaries ?\n",
    "- When order and sequential access are more important than fast lookups"
   ]
  },
  {
   "cell_type": "markdown",
   "metadata": {},
   "source": [
    "Q19 Why are dictionaries considered unordered, and how does that affect data retrieval ?\n",
    "- Dictionaries are unordered because they rely on hash function,as insertion order is preserved."
   ]
  },
  {
   "cell_type": "markdown",
   "metadata": {},
   "source": [
    "Q20 Explain the difference between a list and a dictionary in terms of data retrieval.\n",
    "- Lists retrieve data by index, while dictionaries retrieve data by key."
   ]
  },
  {
   "cell_type": "code",
   "execution_count": 26,
   "metadata": {},
   "outputs": [
    {
     "name": "stdout",
     "output_type": "stream",
     "text": [
      "Karan patel\n"
     ]
    }
   ],
   "source": [
    "#Q1 Create a string with your name and print it\n",
    "name = \"Karan patel\"\n",
    "print(name)"
   ]
  },
  {
   "cell_type": "code",
   "execution_count": 27,
   "metadata": {},
   "outputs": [
    {
     "name": "stdout",
     "output_type": "stream",
     "text": [
      "11\n"
     ]
    }
   ],
   "source": [
    "#Q2 Find the length of the string \"Hello World\".\n",
    "print(len(\"Hello World\"))"
   ]
  },
  {
   "cell_type": "code",
   "execution_count": 28,
   "metadata": {},
   "outputs": [
    {
     "name": "stdout",
     "output_type": "stream",
     "text": [
      "Pyt\n"
     ]
    }
   ],
   "source": [
    "#Q3 Slice the first 3 characters from the string \"Python Programming\"\n",
    "print(\"Python Programming\"[:3])"
   ]
  },
  {
   "cell_type": "code",
   "execution_count": 29,
   "metadata": {},
   "outputs": [
    {
     "name": "stdout",
     "output_type": "stream",
     "text": [
      "HELLO\n"
     ]
    }
   ],
   "source": [
    "#Q4 Convert the string \"hello\" to uppercase.\n",
    "print(\"hello\".upper())"
   ]
  },
  {
   "cell_type": "code",
   "execution_count": 30,
   "metadata": {},
   "outputs": [
    {
     "name": "stdout",
     "output_type": "stream",
     "text": [
      "I like orange\n"
     ]
    }
   ],
   "source": [
    "#Q5 Replace the word \"apple\" with \"orange\" in the string \"I like apple\".\n",
    "print(\"I like apple\".replace(\"apple\", \"orange\"))"
   ]
  },
  {
   "cell_type": "code",
   "execution_count": 31,
   "metadata": {},
   "outputs": [
    {
     "name": "stdout",
     "output_type": "stream",
     "text": [
      "[1, 2, 3, 4, 5]\n"
     ]
    }
   ],
   "source": [
    "#Q6 Create a list with numbers 1 to 5 and print it.\n",
    "lst = [1, 2, 3, 4, 5]\n",
    "print(lst)"
   ]
  },
  {
   "cell_type": "code",
   "execution_count": 32,
   "metadata": {},
   "outputs": [
    {
     "name": "stdout",
     "output_type": "stream",
     "text": [
      "[1, 2, 3, 4, 10]\n"
     ]
    }
   ],
   "source": [
    "#Q7 Append the number 10 to the list [1, 2, 3, 4].\n",
    "lst = [1, 2, 3, 4]\n",
    "lst.append(10)\n",
    "print(lst)"
   ]
  },
  {
   "cell_type": "code",
   "execution_count": 33,
   "metadata": {},
   "outputs": [
    {
     "name": "stdout",
     "output_type": "stream",
     "text": [
      "[1, 2, 4, 5]\n"
     ]
    }
   ],
   "source": [
    "#Q8 Remove the number 3 from the list [1, 2, 3, 4, 5].\n",
    "lst = [1, 2, 3, 4, 5]\n",
    "lst.remove(3)\n",
    "print(lst)"
   ]
  },
  {
   "cell_type": "code",
   "execution_count": 34,
   "metadata": {},
   "outputs": [
    {
     "name": "stdout",
     "output_type": "stream",
     "text": [
      "b\n"
     ]
    }
   ],
   "source": [
    "#Q9 Access the second element in the list ['a', 'b', 'c', 'd'].\n",
    "lst = ['a', 'b', 'c', 'd']\n",
    "print(lst[1])"
   ]
  },
  {
   "cell_type": "code",
   "execution_count": 35,
   "metadata": {},
   "outputs": [
    {
     "name": "stdout",
     "output_type": "stream",
     "text": [
      "[50, 40, 30, 20, 10]\n"
     ]
    }
   ],
   "source": [
    "#Q10 Reverse the list [10, 20, 30, 40, 50].\n",
    "lst = [10, 20, 30, 40, 50]\n",
    "print(lst[::-1])"
   ]
  },
  {
   "cell_type": "code",
   "execution_count": 36,
   "metadata": {},
   "outputs": [
    {
     "name": "stdout",
     "output_type": "stream",
     "text": [
      "(10, 20, 30)\n"
     ]
    }
   ],
   "source": [
    "#Q11 Create a tuple with the elements 10, 20, 30 and print it.\n",
    "tup = (10, 20, 30)\n",
    "print(tup)"
   ]
  },
  {
   "cell_type": "code",
   "execution_count": 37,
   "metadata": {},
   "outputs": [
    {
     "name": "stdout",
     "output_type": "stream",
     "text": [
      "apple\n"
     ]
    }
   ],
   "source": [
    "#Q12,Q19 Access the first element of the tuple ('apple', 'banana', 'cherry').\n",
    "tup = ('apple', 'banana', 'cherry')\n",
    "print(tup[0])"
   ]
  },
  {
   "cell_type": "code",
   "execution_count": 38,
   "metadata": {},
   "outputs": [
    {
     "name": "stdout",
     "output_type": "stream",
     "text": [
      "3\n"
     ]
    }
   ],
   "source": [
    "#Q13,Q20 Count how many times the number 2 appears in the tuple (1, 2, 3, 2, 4, 2).\n",
    "tup = (1, 2, 3, 2, 4, 2)\n",
    "print(tup.count(2))"
   ]
  },
  {
   "cell_type": "code",
   "execution_count": 39,
   "metadata": {},
   "outputs": [
    {
     "name": "stdout",
     "output_type": "stream",
     "text": [
      "1\n"
     ]
    }
   ],
   "source": [
    "#Q14,Q21 Find the index of the element \"cat\" in the tuple ('dog', 'cat', 'rabbit').\n",
    "tup = ('dog', 'cat', 'rabbit')\n",
    "print(tup.index('cat'))"
   ]
  },
  {
   "cell_type": "code",
   "execution_count": 40,
   "metadata": {},
   "outputs": [
    {
     "name": "stdout",
     "output_type": "stream",
     "text": [
      "True\n"
     ]
    }
   ],
   "source": [
    "#Q15,Q22 Check if the element \"banana\" is in the tuple ('apple', 'orange', 'banana').\n",
    "tup = ('apple', 'orange', 'banana')\n",
    "print(\"banana\" in tup)"
   ]
  },
  {
   "cell_type": "code",
   "execution_count": 41,
   "metadata": {},
   "outputs": [
    {
     "name": "stdout",
     "output_type": "stream",
     "text": [
      "{1, 2, 3, 4, 5}\n"
     ]
    }
   ],
   "source": [
    "#Q16,Q23 Create a set with the elements 1, 2, 3, 4, 5 and print it.\n",
    "st = {1, 2, 3, 4, 5}\n",
    "print(st)"
   ]
  },
  {
   "cell_type": "code",
   "execution_count": 42,
   "metadata": {},
   "outputs": [
    {
     "name": "stdout",
     "output_type": "stream",
     "text": [
      "{1, 2, 3, 4, 6}\n"
     ]
    }
   ],
   "source": [
    "#Q17,Q24 Add the element 6 to the set {1, 2, 3, 4}.\n",
    "st = {1, 2, 3, 4}\n",
    "st.add(6)\n",
    "print(st)"
   ]
  }
 ],
 "metadata": {
  "kernelspec": {
   "display_name": "Python 3",
   "language": "python",
   "name": "python3"
  },
  "language_info": {
   "codemirror_mode": {
    "name": "ipython",
    "version": 3
   },
   "file_extension": ".py",
   "mimetype": "text/x-python",
   "name": "python",
   "nbconvert_exporter": "python",
   "pygments_lexer": "ipython3",
   "version": "3.13.0"
  }
 },
 "nbformat": 4,
 "nbformat_minor": 2
}
