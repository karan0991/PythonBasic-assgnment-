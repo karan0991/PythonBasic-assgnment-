{
 "cells": [
  {
   "cell_type": "markdown",
   "metadata": {},
   "source": [
    "Q1 What is Object-Oriented Programming (OOP)?\n",
    "- Object-Oriented Programming (OOP) is a programming paradigm based on the concept of objects which can contain data in the form of attributes and code in the form of procedures. OOP focuses on reusable code and modeling real-world entities"
   ]
  },
  {
   "cell_type": "markdown",
   "metadata": {},
   "source": [
    "Q2 What is a class in OOP ?\n",
    "- A class in OOP is a blueprint for creating objects. It defines a set of attributes and methods that the created objects instances"
   ]
  },
  {
   "cell_type": "markdown",
   "metadata": {},
   "source": [
    "Q3  What is an object in OOP ?\n",
    "- An object in OOP is an instance of a class. It is a self-contained entity that consists of attributes and functions that define its behavior"
   ]
  },
  {
   "cell_type": "markdown",
   "metadata": {},
   "source": [
    "Q4 What is the difference between abstraction and encapsulation ?\n",
    "- Abstraction is the concept of hiding unnecessary details and showing only essential features of an object.\n",
    "- Encapsulation is the practice of bundling the data and methods that operate on the data into a single unit and restricting access to some of the object's components."
   ]
  },
  {
   "cell_type": "markdown",
   "metadata": {},
   "source": [
    "Q5 What are dunder methods in Python ?\n",
    "- Dunder methods, also called magic methods, are special methods in Python that have double underscores at the beginning and end of their names. Examples include `__init__`, `__str__`, and `__repr__`. These methods enable operator overloading and customization of built-in behaviors."
   ]
  },
  {
   "cell_type": "markdown",
   "metadata": {},
   "source": [
    "Q6 Explain the concept of inheritance in OOP ?\n",
    "- Inheritance is a fundamental concept in OOP that allows a child class to inherit attributes and methods from parent class. This promotes code reuse and the creation of a hierarchy of classes."
   ]
  },
  {
   "cell_type": "markdown",
   "metadata": {},
   "source": [
    "Q7  What is polymorphism in OOP ?\n",
    "- Polymorphism in OOP allows methods to have different implementations depending on the context or object on which they are called. For example, the same method name can perform different actions in different classes"
   ]
  },
  {
   "cell_type": "markdown",
   "metadata": {},
   "source": [
    "Q8 How is encapsulation achieved in Python ?\n",
    "- Encapsulation in Python is achieved by defining class attributes as private (using a leading underscore `_` or double underscore `__`) and providing public methods (getters and setters) to access or modify these attributes"
   ]
  },
  {
   "cell_type": "markdown",
   "metadata": {},
   "source": [
    "Q9 What is a constructor in Python ?\n",
    "- A constructor in Python is a special method, `__init__`, that is automatically called when an object is created. It is used to initialize the attributes of the object."
   ]
  },
  {
   "cell_type": "markdown",
   "metadata": {},
   "source": [
    "Q10 What are class and static methods in Python ?\n",
    "- Class methods in Python are methods that are bound to the class and not the instance. They are defined using `@classmethod`. Static methods, defined with `@staticmethod`, are not bound to the class or instance and do not require `self` or `cls`"
   ]
  },
  {
   "cell_type": "markdown",
   "metadata": {},
   "source": [
    "Q11 What is method overloading in Python ?\n",
    "- Method overloading in Python refers to defining multiple methods with the same name but different arguments.Python does not support traditional method overloading but achieves similar behavior using default arguments"
   ]
  },
  {
   "cell_type": "markdown",
   "metadata": {},
   "source": [
    "Q12  What is method overriding in OOP ?\n",
    "- Method overriding in OOP occurs when a subclass provides a specific implementation for a method already defined in its parent class. It is used to modify or extend the behavior of the inherited method."
   ]
  },
  {
   "cell_type": "markdown",
   "metadata": {},
   "source": [
    "Q13 What is a property decorator in Python ?\n",
    "- The `property` decorator in Python is used to define getter, setter, and deleter methods for a class attribute, allowing controlled access to private attributes."
   ]
  },
  {
   "cell_type": "markdown",
   "metadata": {},
   "source": [
    "Q14 Why is polymorphism important in OOP ?\n",
    "- Polymorphism is important in OOP as it enables objects of different classes to be treated as objects of a common superclass. It simplifies code, promotes flexibility, and supports dynamic method resolution."
   ]
  },
  {
   "cell_type": "markdown",
   "metadata": {},
   "source": [
    "Q15  What is an abstract class in Python ?\n",
    "- An abstract class in Python is a class that cannot be instantiated and serves as a blueprint for derived classes.It is defined using the `abc` module and contains at least one abstract method."
   ]
  },
  {
   "cell_type": "markdown",
   "metadata": {},
   "source": [
    "Q16  What are the advantages of OOP ?\n",
    "- Advantages of OOP include:\n",
    "1. Code Reusability: Inheritance allows code reuse.\n",
    "2. Modularity: Code is organized into classes, making it more modular and easier to manage.\n",
    "3. Flexibility: Polymorphism and dynamic method resolution.\n",
    "4. Encapsulation: Improves data security and integrity."
   ]
  },
  {
   "cell_type": "markdown",
   "metadata": {},
   "source": [
    "Q17 What is the difference between a class variable and an instance variable ?\n",
    "- A class variable is shared across all instances of a class, whereas an instance variable is unique to each instance."
   ]
  },
  {
   "cell_type": "markdown",
   "metadata": {},
   "source": [
    "Q18 What is multiple inheritance in Python ?\n",
    "- Multiple inheritance in Python allows a class to inherit from more than one parent class. This can be achieved by listing multiple parent classes in the class definition."
   ]
  },
  {
   "cell_type": "markdown",
   "metadata": {},
   "source": [
    "Q19  Explain the purpose of ‘’__str__’ and ‘__repr__’ ‘ methods in Python ?\n",
    "- `__str__` is used to return a human-readable string representation of an object\n",
    "- `__repr__` returns an unambiguous string representation for debugging"
   ]
  },
  {
   "cell_type": "markdown",
   "metadata": {},
   "source": [
    "Q20  What is the significance of the ‘super()’ function in Python ?\n",
    "- The `super()` function in Python is used to call methods of a parent class, avoiding the need to explicitly name the parent class"
   ]
  },
  {
   "cell_type": "markdown",
   "metadata": {},
   "source": [
    "Q21  What is the significance of the __del__ method in Python ?\n",
    "- The `__del__` method in Python is a destructor method that is called when an object is deleted or garbage collected."
   ]
  },
  {
   "cell_type": "markdown",
   "metadata": {},
   "source": [
    "Q22 What is the difference between @staticmethod and @classmethod in Python ?\n",
    "- `@staticmethod` defines methods that belong to a class but do not modify its state\n",
    "- `@classmethod` operates on the class itself and can modify class-level data."
   ]
  },
  {
   "cell_type": "markdown",
   "metadata": {},
   "source": [
    "Q23  How does polymorphism work in Python with inheritance ?\n",
    "- Polymorphism with inheritance in Python works by defining methods in a parent class that are overridden by derived classes to provide specific implementations."
   ]
  },
  {
   "cell_type": "markdown",
   "metadata": {},
   "source": [
    "Q24 What is method chaining in Python OOP ?\n",
    "- Method chaining in Python OOP involves calling multiple methods on the same object in a single statement. Each method returns `self` to enable chaining"
   ]
  },
  {
   "cell_type": "markdown",
   "metadata": {},
   "source": [
    "Q25 What is the purpose of the __call__ method in Python ?\n",
    "- The `__call__` method in Python allows an object to be called as a function. It is implemented by overriding the `__call__` method in a class."
   ]
  },
  {
   "cell_type": "code",
   "execution_count": 49,
   "metadata": {},
   "outputs": [
    {
     "name": "stdout",
     "output_type": "stream",
     "text": [
      "This is a generic animal sound.\n",
      "Bark!\n"
     ]
    }
   ],
   "source": [
    "#Q1  Create a parent class Animal with a method speak() that prints a generic message. Create a child class Dog that overrides the speak() method to print \"Bark!\".\n",
    "class Animal:\n",
    "    def speak(self):\n",
    "        print(\"This is a generic animal sound.\")\n",
    "\n",
    "class Dog(Animal):\n",
    "    def speak(self):\n",
    "        print(\"Bark!\")\n",
    "\n",
    "animal = Animal()\n",
    "animal.speak()\n",
    "\n",
    "dog = Dog()\n",
    "dog.speak()"
   ]
  },
  {
   "cell_type": "code",
   "execution_count": 50,
   "metadata": {},
   "outputs": [
    {
     "name": "stdout",
     "output_type": "stream",
     "text": [
      "Area of Circle: 78.53981633974483\n",
      "Area of Rectangle: 24\n"
     ]
    }
   ],
   "source": [
    "#Q2  Write a program to create an abstract class Shape with a method area(). Derive classes Circle and Rectangle from it and implement the area() method in both\n",
    "import math\n",
    "from abc import ABC, abstractmethod\n",
    "class Shape(ABC):\n",
    "    @abstractmethod\n",
    "    def area(self):\n",
    "        pass\n",
    "\n",
    "class Circle(Shape):\n",
    "    def __init__(self, radius):\n",
    "        self.radius = radius\n",
    "    \n",
    "    def area(self):\n",
    "        return math.pi * self.radius ** 2\n",
    "\n",
    "class Rectangle(Shape):\n",
    "    def __init__(self, length, breadth):\n",
    "        self.length = length\n",
    "        self.breadth = breadth\n",
    "    \n",
    "    def area(self):\n",
    "        return self.length * self.breadth\n",
    "\n",
    "circle = Circle(5)\n",
    "print(\"Area of Circle:\", circle.area())\n",
    "\n",
    "rectangle = Rectangle(4, 6)\n",
    "print(\"Area of Rectangle:\", rectangle.area())"
   ]
  },
  {
   "cell_type": "code",
   "execution_count": 51,
   "metadata": {},
   "outputs": [
    {
     "name": "stdout",
     "output_type": "stream",
     "text": [
      "Type: Electric, Brand: Tesla, Battery: 100 kWh\n"
     ]
    }
   ],
   "source": [
    "#Q3,Q4 Implement a multi-level inheritance scenario where a class Vehicle has an attribute type. Derive a class Car and further derive a class ElectricCar that adds a battery attribute\n",
    "class Vehicle:\n",
    "    def __init__(self, vehicle_type):\n",
    "        self.type = vehicle_type\n",
    "\n",
    "class Car(Vehicle):\n",
    "    def __init__(self, vehicle_type, brand):\n",
    "        super().__init__(vehicle_type)\n",
    "        self.brand = brand\n",
    "\n",
    "class ElectricCar(Car):\n",
    "    def __init__(self, vehicle_type, brand, battery_capacity):\n",
    "        super().__init__(vehicle_type, brand)\n",
    "        self.battery_capacity = battery_capacity\n",
    "\n",
    "electric_car = ElectricCar(\"Electric\", \"Tesla\", \"100 kWh\")\n",
    "print(f\"Type: {electric_car.type}, Brand: {electric_car.brand}, Battery: {electric_car.battery_capacity}\")\n"
   ]
  },
  {
   "cell_type": "code",
   "execution_count": 52,
   "metadata": {},
   "outputs": [
    {
     "name": "stdout",
     "output_type": "stream",
     "text": [
      "Deposited: 200\n",
      "Withdrew: 150\n",
      "Current Balance: 550\n"
     ]
    }
   ],
   "source": [
    "#Q5 Write a program to demonstrate encapsulation by creating a class BankAccount with private attributes balance and methods to deposit, withdraw, and check balance.\n",
    "class BankAccount:\n",
    "    def __init__(self, initial_balance):\n",
    "        self.__balance = initial_balance  # Private attribute\n",
    "\n",
    "    def deposit(self, amount):\n",
    "        if amount > 0:\n",
    "            self.__balance += amount\n",
    "            print(f\"Deposited: {amount}\")\n",
    "        else:\n",
    "            print(\"Invalid deposit amount.\")\n",
    "\n",
    "    def withdraw(self, amount):\n",
    "        if 0 < amount <= self.__balance:\n",
    "            self.__balance -= amount\n",
    "            print(f\"Withdrew: {amount}\")\n",
    "        else:\n",
    "            print(\"Insufficient balance or invalid amount.\")\n",
    "\n",
    "    def check_balance(self):\n",
    "        return self.__balance\n",
    "\n",
    "account = BankAccount(500)\n",
    "account.deposit(200) \n",
    "account.withdraw(150)\n",
    "print(\"Current Balance:\", account.check_balance())\n"
   ]
  },
  {
   "cell_type": "code",
   "execution_count": 53,
   "metadata": {},
   "outputs": [
    {
     "name": "stdout",
     "output_type": "stream",
     "text": [
      "Playing the piano.\n",
      "Playing the guitar.\n"
     ]
    }
   ],
   "source": [
    "#Q6 Demonstrate runtime polymorphism using a method play() in a base class Instrument. Derive classes Guitar and Piano that implement their own version of play().\n",
    "class Instrument:\n",
    "    def play(self):\n",
    "        print(\"Playing an instrument.\")\n",
    "\n",
    "class Guitar(Instrument):\n",
    "    def play(self):\n",
    "        print(\"Playing the guitar.\")\n",
    "\n",
    "class Piano(Instrument):\n",
    "    def play(self):\n",
    "        print(\"Playing the piano.\")\n",
    "\n",
    "instruments = [Piano(),Guitar()]\n",
    "for instrument in instruments:\n",
    "    instrument.play()"
   ]
  },
  {
   "cell_type": "code",
   "execution_count": 54,
   "metadata": {},
   "outputs": [
    {
     "name": "stdout",
     "output_type": "stream",
     "text": [
      "Addition: 28\n",
      "Subtraction: 106\n"
     ]
    }
   ],
   "source": [
    "#Q7 Create a class MathOperations with a class method add_numbers() to add two numbers and a static method subtract_numbers() to subtract two numbers.\n",
    "class MathOperations:\n",
    "    @classmethod\n",
    "    def add_numbers(cls, a, b):\n",
    "        return a + b\n",
    "\n",
    "    @staticmethod\n",
    "    def subtract_numbers(a, b):\n",
    "        return a - b\n",
    "\n",
    "# Example usage\n",
    "print(\"Addition:\", MathOperations.add_numbers(19, 9))\n",
    "print(\"Subtraction:\", MathOperations.subtract_numbers(111, 5))"
   ]
  },
  {
   "cell_type": "code",
   "execution_count": 55,
   "metadata": {},
   "outputs": [
    {
     "name": "stdout",
     "output_type": "stream",
     "text": [
      "Total Persons: 3\n"
     ]
    }
   ],
   "source": [
    "# Q8 Implement a class Person with a class method to count the total number of persons created.\n",
    "class Person:\n",
    "    count = 0\n",
    "\n",
    "    def __init__(self, name, age):\n",
    "        self.name = name\n",
    "        self.age = age\n",
    "        Person.count += 1\n",
    "\n",
    "    @classmethod\n",
    "    def total_persons(cls):\n",
    "        return cls.count\n",
    "\n",
    "p1 = Person(\"Jash\", 19)\n",
    "p2 = Person(\"Karan\", 20)\n",
    "p2 = Person(\"Vraj\", 20)\n",
    "print(\"Total Persons:\", Person.total_persons())\n"
   ]
  },
  {
   "cell_type": "code",
   "execution_count": 56,
   "metadata": {},
   "outputs": [
    {
     "name": "stdout",
     "output_type": "stream",
     "text": [
      "11/15\n"
     ]
    }
   ],
   "source": [
    "#Q9 Write a class Fraction with attributes numerator and denominator. Override the str method to display the fraction as \"numerator/denominator\"\n",
    "class Fraction:\n",
    "    def __init__(self, numerator, denominator):\n",
    "        self.numerator = numerator\n",
    "        self.denominator = denominator\n",
    "\n",
    "    def __str__(self):\n",
    "        return f\"{self.numerator}/{self.denominator}\"\n",
    "\n",
    "fraction = Fraction(11, 15)\n",
    "print(fraction)\n"
   ]
  },
  {
   "cell_type": "code",
   "execution_count": 57,
   "metadata": {},
   "outputs": [
    {
     "name": "stdout",
     "output_type": "stream",
     "text": [
      "Vector(23, 47)\n"
     ]
    }
   ],
   "source": [
    "# Q10  Demonstrate operator overloading by creating a class Vector and overriding the add method to add two vectors.\n",
    "class Vector:\n",
    "    def __init__(self, x, y):\n",
    "        self.x = x\n",
    "        self.y = y\n",
    "\n",
    "    def __add__(self, other):\n",
    "        return Vector(self.x + other.x, self.y + other.y)\n",
    "\n",
    "    def __str__(self):\n",
    "        return f\"Vector({self.x}, {self.y})\"\n",
    "\n",
    "v1 = Vector(11, 19)\n",
    "v2 = Vector(12, 28)\n",
    "v3 = v1 + v2\n",
    "print(v3)\n"
   ]
  },
  {
   "cell_type": "code",
   "execution_count": 58,
   "metadata": {},
   "outputs": [
    {
     "name": "stdout",
     "output_type": "stream",
     "text": [
      "Hello, my name is karan and I am 20 years old.\n"
     ]
    }
   ],
   "source": [
    "# Q11 . Create a class Person with attributes name and age. Add a method greet() that prints \"Hello, my name is {name} and I am {age} years old.\"\n",
    "class Person:\n",
    "    def __init__(self, name, age):\n",
    "        self.name = name\n",
    "        self.age = age\n",
    "\n",
    "    def greet(self):\n",
    "        print(f\"Hello, my name is {self.name} and I am {self.age} years old.\")\n",
    "\n",
    "person = Person(\"karan\", 20)\n",
    "person.greet()\n"
   ]
  },
  {
   "cell_type": "code",
   "execution_count": 59,
   "metadata": {},
   "outputs": [
    {
     "name": "stdout",
     "output_type": "stream",
     "text": [
      "Average Grade: 50.0\n"
     ]
    }
   ],
   "source": [
    "# Q12 . Implement a class Student with attributes name and grades. Create a method average_grade() to compute the average of the grades\n",
    "class Student:\n",
    "    def __init__(self, name, grades):\n",
    "        self.name = name\n",
    "        self.grades = grades\n",
    "\n",
    "    def average_grade(self):\n",
    "        return sum(self.grades) / len(self.grades)\n",
    "\n",
    "student = Student(\"Bob\", [50, 50])\n",
    "print(\"Average Grade:\", student.average_grade())\n"
   ]
  },
  {
   "cell_type": "code",
   "execution_count": 60,
   "metadata": {},
   "outputs": [
    {
     "name": "stdout",
     "output_type": "stream",
     "text": [
      "Area: 60\n"
     ]
    }
   ],
   "source": [
    "# Q13  Create a class Rectangle with methods set_dimensions() to set the dimensions and area() to calculate the area.\n",
    "class Rectangle:\n",
    "    def __init__(self):\n",
    "        self.length = 0\n",
    "        self.breadth = 0\n",
    "\n",
    "    def set_dimensions(self, length, breadth):\n",
    "        self.length = length\n",
    "        self.breadth = breadth\n",
    "\n",
    "    def area(self):\n",
    "        return self.length * self.breadth\n",
    "\n",
    "rect = Rectangle()\n",
    "rect.set_dimensions(6, 10)\n",
    "print(\"Area:\", rect.area())\n"
   ]
  },
  {
   "cell_type": "code",
   "execution_count": 61,
   "metadata": {},
   "outputs": [
    {
     "name": "stdout",
     "output_type": "stream",
     "text": [
      "Employee Salary: 800\n",
      "Manager Salary: 900\n"
     ]
    }
   ],
   "source": [
    "# Q14  Create a class Employee with a method calculate_salary() that computes the salary based on hours worked and hourly rate. Create a derived class Manager that adds a bonus to the salary\n",
    "class Employee:\n",
    "    def __init__(self, hours_worked, hourly_rate):\n",
    "        self.hours_worked = hours_worked\n",
    "        self.hourly_rate = hourly_rate\n",
    "\n",
    "    def calculate_salary(self):\n",
    "        return self.hours_worked * self.hourly_rate\n",
    "\n",
    "class Manager(Employee):\n",
    "    def __init__(self, hours_worked, hourly_rate, bonus):\n",
    "        super().__init__(hours_worked, hourly_rate)\n",
    "        self.bonus = bonus\n",
    "\n",
    "    def calculate_salary(self):\n",
    "        return super().calculate_salary() + self.bonus\n",
    "\n",
    "# Example usage\n",
    "emp = Employee(40, 20)\n",
    "print(\"Employee Salary:\", emp.calculate_salary())\n",
    "\n",
    "mgr = Manager(40, 20, 100)\n",
    "print(\"Manager Salary:\", mgr.calculate_salary())\n"
   ]
  },
  {
   "cell_type": "code",
   "execution_count": 62,
   "metadata": {},
   "outputs": [
    {
     "name": "stdout",
     "output_type": "stream",
     "text": [
      "Product: pixel 9 pro, Total Price: $3600\n"
     ]
    }
   ],
   "source": [
    "# Q15  Create a class Product with attributes name, price, and quantity. Implement a method total_price() that calculates the total price of the product.\n",
    "class Product:\n",
    "    def __init__(self,name,price,quantity):\n",
    "        self.name=name\n",
    "        self.price=price\n",
    "        self.quantity=quantity\n",
    "\n",
    "    def total_price(self):\n",
    "        return f\"Product: {self.name}, Total Price: ${self.price * self.quantity}\"\n",
    "\n",
    "\n",
    "product = Product(\"pixel 9 pro\", 1800, 2)\n",
    "print(product.total_price())"
   ]
  },
  {
   "cell_type": "code",
   "execution_count": 63,
   "metadata": {},
   "outputs": [
    {
     "name": "stdout",
     "output_type": "stream",
     "text": [
      "Cow Sound: Moooo\n",
      "Sheep Sound: Meaaa\n"
     ]
    }
   ],
   "source": [
    "# Q16  Create a class Animal with an abstract method sound(). Create two derived classes Cow and Sheep that implement the sound() method\n",
    "from abc import ABC ,abstractmethod\n",
    "class Animal:\n",
    "    @abstractmethod\n",
    "    def sound(self):\n",
    "         pass\n",
    "\n",
    "class Cow(Animal):\n",
    "    def sound(self):\n",
    "        return \"Moooo\"\n",
    "    \n",
    "class Sheep(Animal):\n",
    "    def sound(self):\n",
    "        return \"Meaaa\"\n",
    "\n",
    "cow = Cow()\n",
    "print(\"Cow Sound:\", cow.sound())\n",
    "\n",
    "sheep = Sheep()\n",
    "print(\"Sheep Sound:\", sheep.sound())\n"
   ]
  },
  {
   "cell_type": "code",
   "execution_count": 64,
   "metadata": {},
   "outputs": [
    {
     "name": "stdout",
     "output_type": "stream",
     "text": [
      "'SPY X FAMILY' by TATSUYA ENDO, published in 2019.\n"
     ]
    }
   ],
   "source": [
    "# Q17  Create a class Book with attributes title, author, and year_published. Add a method get_book_info() that returns a formatted string with the book's details\n",
    "class Book:\n",
    "    def __init__(self, title, author, year_published):\n",
    "        self.title = title\n",
    "        self.author = author\n",
    "        self.year_published = year_published\n",
    "\n",
    "    def get_book_info(self):\n",
    "        return f\"'{self.title}' by {self.author}, published in {self.year_published}.\"\n",
    "\n",
    "book = Book(\"SPY X FAMILY\", \"TATSUYA ENDO\", 2019)\n",
    "print(book.get_book_info())\n"
   ]
  },
  {
   "cell_type": "code",
   "execution_count": 65,
   "metadata": {},
   "outputs": [
    {
     "name": "stdout",
     "output_type": "stream",
     "text": [
      "Address: 123 abc Street, Price: $10000000\n",
      "Address: 456 Nyc conner , Price: $99999999, Number of Rooms: 999\n"
     ]
    }
   ],
   "source": [
    "# Q18  Create a class House with attributes address and price. Create a derived class Mansion that adds an attribute number_of_rooms.\n",
    "class House:\n",
    "    def __init__(self, address, price):\n",
    "        self.address = address\n",
    "        self.price = price\n",
    "\n",
    "    def display_info(self):\n",
    "        return f\"Address: {self.address}, Price: ${self.price}\"\n",
    "\n",
    "class Mansion(House):\n",
    "    def __init__(self, address, price, number_of_rooms):\n",
    "        super().__init__(address, price)\n",
    "        self.number_of_rooms = number_of_rooms\n",
    "\n",
    "    def display_info(self):\n",
    "        return f\"{super().display_info()}, Number of Rooms: {self.number_of_rooms}\"\n",
    "\n",
    "house = House(\"123 abc Street\", 10000000)\n",
    "print(house.display_info()) \n",
    "\n",
    "mansion = Mansion(\"456 Nyc conner \", 99999999, 999)\n",
    "print(mansion.display_info())"
   ]
  }
 ],
 "metadata": {
  "kernelspec": {
   "display_name": "Python 3",
   "language": "python",
   "name": "python3"
  },
  "language_info": {
   "codemirror_mode": {
    "name": "ipython",
    "version": 3
   },
   "file_extension": ".py",
   "mimetype": "text/x-python",
   "name": "python",
   "nbconvert_exporter": "python",
   "pygments_lexer": "ipython3",
   "version": "3.13.1"
  }
 },
 "nbformat": 4,
 "nbformat_minor": 2
}
