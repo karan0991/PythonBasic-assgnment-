{
 "cells": [
  {
   "cell_type": "markdown",
   "metadata": {},
   "source": [
    "1. What is the difference between interpreted and compiled languages?\n",
    "- Interpreted Language: Executes code line by line at runtime without producing intermediate machine code such as Python, JavaScript\n",
    "- Compiled Language: Translates code into machine code before execution, which runs directly on hardware such as C, C++."
   ]
  },
  {
   "cell_type": "markdown",
   "metadata": {},
   "source": [
    "2. What is exception handling in Python?\n",
    "- A mechanism to handle runtime errors gracefully without halting program execution. It uses try, except, and optionally finally blocks."
   ]
  },
  {
   "cell_type": "markdown",
   "metadata": {},
   "source": [
    "3. What is the purpose of the finally block in exception handling?\n",
    "- Ensures that certain cleanup code like closing files executes, regardless of whether an exception occurs."
   ]
  },
  {
   "cell_type": "markdown",
   "metadata": {},
   "source": [
    "4. What is logging in Python?\n",
    "- A way to track events in a program, often for debugging or monitoring. Python’s logging module provides various levels of logs such as INFO, DEBUG, ERROR."
   ]
  },
  {
   "cell_type": "markdown",
   "metadata": {},
   "source": [
    "5. What is the significance of the __del__ method in Python?\n",
    "- A special method invoked when an object is deleted, useful for cleanup tasks like releasing resources."
   ]
  },
  {
   "cell_type": "markdown",
   "metadata": {},
   "source": [
    "6. What is the difference between import and from ... import in Python?\n",
    "- import: Brings the entire module into scope.\n",
    "- from ... import: Imports specific components from a module."
   ]
  },
  {
   "cell_type": "markdown",
   "metadata": {},
   "source": [
    "7. How can you handle multiple exceptions in Python?\n",
    "- Use multiple except blocks or a single block with a tuple of exceptions:\n",
    "- for example try:<br>\n",
    "Code<br>\n",
    "except (ValueError, KeyError) as e:<br>\n",
    "Handle multiple exceptions<br>"
   ]
  },
  {
   "cell_type": "markdown",
   "metadata": {},
   "source": [
    "8. What is the purpose of the with statement when handling files in Python?\n",
    "- Ensures proper resource management by automatically closing the file, even if exceptions occur."
   ]
  },
  {
   "cell_type": "markdown",
   "metadata": {},
   "source": [
    "9. What is the difference between multithreading and multiprocessing?\n",
    "- Multithreading: Multiple threads within a single process, sharing memory.\n",
    "- Multiprocessing: Multiple processes with separate memory spaces, suitable for CPU-bound tasks."
   ]
  },
  {
   "cell_type": "markdown",
   "metadata": {},
   "source": [
    "10. What are the advantages of using logging in a program?\n",
    "- Advantages of Logging are as follows\n",
    "1. Tracks application behavior.\n",
    "2. Simplifies debugging.\n",
    "3. Provides historical data for analysis."
   ]
  },
  {
   "cell_type": "markdown",
   "metadata": {},
   "source": [
    "11. What is memory management in Python?\n",
    "- Managed via automatic garbage collection and memory allocation."
   ]
  },
  {
   "cell_type": "markdown",
   "metadata": {},
   "source": [
    "12. What are the basic steps involved in exception handling in Python?\n",
    "- the basic steps involved in exception handling in Python are\n",
    "1. Wrap risky code in a try block.\n",
    "2. Catch exceptions with except.\n",
    "3. Use else for normal execution (optional).\n",
    "4. Use finally for cleanup (optional)."
   ]
  },
  {
   "cell_type": "markdown",
   "metadata": {},
   "source": [
    "13. Why is memory management important in Python?\n",
    "- Ensures efficient resource utilization, avoids memory leaks, and enhances performance."
   ]
  },
  {
   "cell_type": "markdown",
   "metadata": {},
   "source": [
    "14. What is the role of try and except in exception handling?\n",
    "- try: Wraps code that might raise exceptions.\n",
    "- except: Catches and handles exceptions."
   ]
  },
  {
   "cell_type": "markdown",
   "metadata": {},
   "source": [
    "15. How does Python's garbage collection system work?\n",
    "- Uses reference counting and cyclic garbage collection to manage memory."
   ]
  },
  {
   "cell_type": "markdown",
   "metadata": {},
   "source": [
    "16. What is the purpose of the else block in exception handling?\n",
    "- Executes code only if no exceptions occur in the try block."
   ]
  },
  {
   "cell_type": "markdown",
   "metadata": {},
   "source": [
    "17. What are the common logging levels in Python?\n",
    "-  Common logging levels are DEBUG, INFO, WARNING, ERROR, CRITICAL.\n"
   ]
  },
  {
   "cell_type": "markdown",
   "metadata": {},
   "source": [
    "18. What is the difference between os.fork() and multiprocessing in Python?\n",
    "- os.fork(): Duplicates the process.\n",
    "- multiprocessing: Provides high-level API for process management."
   ]
  },
  {
   "cell_type": "markdown",
   "metadata": {},
   "source": [
    "19. What is the importance of closing a file in Python?\n",
    "- The importance of closing a file in python is that it prevents resource leaks and ensures all operations are flushed to disk."
   ]
  },
  {
   "cell_type": "markdown",
   "metadata": {},
   "source": [
    "20. What is the difference between file.read() and file.readline() in Python?\n",
    "- file.read(): Reads the entire content.\n",
    "- file.readline(): Reads one line at a time."
   ]
  },
  {
   "cell_type": "markdown",
   "metadata": {},
   "source": [
    "21. What is the logging module in Python used for?\n",
    "- the logging module in python used for captures runtime information about program execution."
   ]
  },
  {
   "cell_type": "markdown",
   "metadata": {},
   "source": [
    "22. What is the os module in Python used for in file handling?\n",
    "- the os module in Python used for in file handling as it provides functionalities like file path manipulation, creation, deletion, etc."
   ]
  },
  {
   "cell_type": "markdown",
   "metadata": {},
   "source": [
    "23. What are the challenges associated with memory management in Python?\n",
    "- The challenges associated with memory managemnet in python are\n",
    "1. Circular references.\n",
    "2. Efficient utilization of large objects."
   ]
  },
  {
   "cell_type": "markdown",
   "metadata": {},
   "source": [
    "24. How do you raise an exception manually in Python?\n",
    "- yes you can raise an expception manually in python by using this code line raise ValueError(\"Custom error message\")"
   ]
  },
  {
   "cell_type": "markdown",
   "metadata": {},
   "source": [
    "25. Why is it important to use multithreading in certain applications?\n",
    "- it is important to use multithreading in certain applications as it enables concurrent I/O-bound tasks, improving performance for such scenarios."
   ]
  },
  {
   "cell_type": "code",
   "execution_count": 33,
   "metadata": {},
   "outputs": [],
   "source": [
    "# Q1 How can you open a file for writing in Python and write a string to it?\n",
    "file = open(\"test1.txt\",\"w\")\n",
    "file.write(\"hello test file 1\")\n",
    "file.close()"
   ]
  },
  {
   "cell_type": "code",
   "execution_count": 34,
   "metadata": {},
   "outputs": [
    {
     "name": "stdout",
     "output_type": "stream",
     "text": [
      "hello test file 1\n"
     ]
    }
   ],
   "source": [
    "# Q2 Write a Python program to read the contents of a file and print each line.\n",
    "file = open(\"test1.txt\",\"r\")\n",
    "for line in file:\n",
    "    print(line.strip())"
   ]
  },
  {
   "cell_type": "code",
   "execution_count": 35,
   "metadata": {},
   "outputs": [
    {
     "name": "stdout",
     "output_type": "stream",
     "text": [
      "file does not exit\n"
     ]
    }
   ],
   "source": [
    "# Q3 How would you handle a case where the file doesn't exist while trying to open it for reading?\n",
    "try:\n",
    "    file = open(\"test2.txt\",\"r\")\n",
    "    print(file.read())\n",
    "except FileNotFoundError:\n",
    "    print(\"file does not exit\")"
   ]
  },
  {
   "cell_type": "code",
   "execution_count": 36,
   "metadata": {},
   "outputs": [],
   "source": [
    "# Q4 Write a Python script that reads from one file and writes its content to another file.\n",
    "source_path = \"test4.txt\"\n",
    "destination_path = \"CopyOfTest4.txt\"\n",
    "with open(source_path, 'r') as src, open(destination_path, 'w') as dest:\n",
    "    for line in src:\n",
    "        dest.write(line)"
   ]
  },
  {
   "cell_type": "code",
   "execution_count": 37,
   "metadata": {},
   "outputs": [
    {
     "name": "stdout",
     "output_type": "stream",
     "text": [
      "Cann't divide by zero\n"
     ]
    }
   ],
   "source": [
    "# Q5 How would you catch and handle division by zero error in Python?\n",
    "try:\n",
    "    result = 1 / 0\n",
    "except ZeroDivisionError:\n",
    "    print(\"Cann't divide by zero\")\n"
   ]
  },
  {
   "cell_type": "code",
   "execution_count": 38,
   "metadata": {},
   "outputs": [],
   "source": [
    "# Q6 Write a Python program that logs an error message to a log file when a division by zero exception occurs.\n",
    "import logging\n",
    "logging.basicConfig(filename=\"error.log\", level=logging.ERROR)\n",
    "try:\n",
    "    result = 10 / 0\n",
    "except ZeroDivisionError:\n",
    "    logging.error(\"Q6Attempted division by zero.\", exc_info=True)\n"
   ]
  },
  {
   "cell_type": "code",
   "execution_count": 39,
   "metadata": {},
   "outputs": [],
   "source": [
    "# Q7 How do you log information at different levels (INFO, ERROR, WARNING) in Python using the logging module?\n",
    "logging.basicConfig(filename=\"error.log\", level=logging.DEBUG)\n",
    "logging.info(\"This is an INFO message.\")\n",
    "logging.warning(\"This is a WARNING message.\")\n",
    "logging.error(\"Q7This is an ERROR message.\")"
   ]
  },
  {
   "cell_type": "code",
   "execution_count": 40,
   "metadata": {},
   "outputs": [
    {
     "name": "stdout",
     "output_type": "stream",
     "text": [
      "An error occurred while opening the file: [Errno 2] No such file or directory: 'example.txt'\n"
     ]
    }
   ],
   "source": [
    "# Q8 Write a program to handle a file opening error using exception handling.\n",
    "file_path = \"example.txt\"\n",
    "try:\n",
    "    with open(file_path, 'r') as file:\n",
    "        print(file.read())\n",
    "except OSError as e:\n",
    "    print(f\"An error occurred while opening the file: {e}\")\n"
   ]
  },
  {
   "cell_type": "code",
   "execution_count": 41,
   "metadata": {},
   "outputs": [
    {
     "name": "stdout",
     "output_type": "stream",
     "text": [
      "['hello\\n', 'how are\\n', 'you\\n', '?i am fine']\n"
     ]
    }
   ],
   "source": [
    "# Q9 How can you read a file line by line and store its content in a list in Python?\n",
    "file = open(\"test.txt\",\"r\")\n",
    "print(file.readlines())"
   ]
  },
  {
   "cell_type": "code",
   "execution_count": 42,
   "metadata": {},
   "outputs": [],
   "source": [
    "# Q10 How can you append data to an existing file in Python?\n",
    "file = open(\"test.txt\",\"a\")\n",
    "file.write(\"i am fine\")\n",
    "file.close()"
   ]
  },
  {
   "cell_type": "code",
   "execution_count": 43,
   "metadata": {},
   "outputs": [
    {
     "name": "stdout",
     "output_type": "stream",
     "text": [
      "The key does not exist in the dictionary.\n"
     ]
    }
   ],
   "source": [
    "# Q11 Write a Python program that uses a try-except block to handle an error when attempting to access a dictionary key that doesn't exist.\n",
    "data = {\"key1\": \"value1\"}\n",
    "try:\n",
    "    value = data[\"key2\"]\n",
    "except KeyError:\n",
    "    print(\"The key does not exist in the dictionary.\")\n"
   ]
  },
  {
   "cell_type": "code",
   "execution_count": 44,
   "metadata": {},
   "outputs": [
    {
     "name": "stdout",
     "output_type": "stream",
     "text": [
      "Key not found in the dictionary.\n"
     ]
    }
   ],
   "source": [
    "# Q12 Write a program that demonstrates using multiple except blocks to handle different types of exceptions.\n",
    "try:\n",
    "    value = data[\"key2\"]\n",
    "    result = 1 / 0  \n",
    "except ZeroDivisionError:\n",
    "    print(\"Division by zero is not allowed.\")\n",
    "except KeyError:\n",
    "    print(\"Key not found in the dictionary.\")\n"
   ]
  },
  {
   "cell_type": "code",
   "execution_count": 45,
   "metadata": {},
   "outputs": [
    {
     "name": "stdout",
     "output_type": "stream",
     "text": [
      "File test3.txt does not exist.\n"
     ]
    }
   ],
   "source": [
    "# Q13 How would you check if a file exists before attempting to read it in Python?\n",
    "import os\n",
    "file = \"test3.txt\"\n",
    "if os.path.exists(file):\n",
    "    with open(file, 'r') as file:\n",
    "        print(file.read())\n",
    "else:\n",
    "    print(f\"File {file} does not exist.\")"
   ]
  },
  {
   "cell_type": "code",
   "execution_count": 46,
   "metadata": {},
   "outputs": [],
   "source": [
    "# Q14 Write a program that uses the logging module to log both informational and error messages.\n",
    "import logging\n",
    "logging.basicConfig(filename=\"app.log\", level=logging.INFO)\n",
    "logging.info(\"This is an informational message.\")\n",
    "try:\n",
    "    result = 1 / 0\n",
    "except ZeroDivisionError:\n",
    "    logging.error(\"Q14 Division by zero error occurred.\", exc_info=True)\n"
   ]
  },
  {
   "cell_type": "code",
   "execution_count": 47,
   "metadata": {},
   "outputs": [
    {
     "name": "stdout",
     "output_type": "stream",
     "text": [
      "The file is empty.\n"
     ]
    }
   ],
   "source": [
    "# Q15 Write a Python program that prints the content of a file and handles the case when the file is empty.\n",
    "# Handle empty file content\n",
    "file_path = \"test5.txt\"\n",
    "with open(file_path, 'r') as file:\n",
    "    content = file.read()\n",
    "    if content.strip():\n",
    "        print(content)\n",
    "    else:\n",
    "        print(\"The file is empty.\")\n"
   ]
  },
  {
   "cell_type": "code",
   "execution_count": 48,
   "metadata": {},
   "outputs": [
    {
     "name": "stdout",
     "output_type": "stream",
     "text": [
      "ERROR: Could not find file C:\\Users\\karan\\AppData\\Local\\Temp\\ipykernel_28120\\1155975947.py\n"
     ]
    }
   ],
   "source": [
    "# Q16 Demonstrate how to use memory profiling to check the memory usage of a small program.\n",
    "from memory_profiler import profile\n",
    "\n",
    "@profile\n",
    "def memory_intensive_function():\n",
    "    data = [i for i in range(1000000)]\n",
    "    return data\n",
    "\n",
    "if __name__ == \"__main__\":\n",
    "    memory_intensive_function()\n",
    "\n"
   ]
  },
  {
   "cell_type": "code",
   "execution_count": 49,
   "metadata": {},
   "outputs": [],
   "source": [
    "# Q17 Write a Python program to create and write a list of numbers to a file, one number per line.\n",
    "file_path = \"numbers.txt\"\n",
    "numbers = [1, 2, 3, 4, 5]\n",
    "with open(file_path, 'w') as file:\n",
    "    for number in numbers:\n",
    "        file.write(f\"{number}\\n\")"
   ]
  },
  {
   "cell_type": "code",
   "execution_count": 50,
   "metadata": {},
   "outputs": [],
   "source": [
    "# Q18 How would you implement a basic logging setup that logs to a file with rotation after 1MB?\n",
    "import logging\n",
    "from logging.handlers import RotatingFileHandler\n",
    "\n",
    "handler = RotatingFileHandler(\"rotated_app.log\", maxBytes=1e6, backupCount=3)\n",
    "logger = logging.getLogger(\"RotatingLog\")\n",
    "logger.setLevel(logging.INFO)\n",
    "logger.addHandler(handler)\n",
    "\n",
    "for i in range(10000):\n",
    "    logger.info(f\"This is log message {i}\")\n"
   ]
  },
  {
   "cell_type": "code",
   "execution_count": 51,
   "metadata": {},
   "outputs": [
    {
     "name": "stdout",
     "output_type": "stream",
     "text": [
      "Index out of range.\n"
     ]
    }
   ],
   "source": [
    "# Q19 Write a program that handles both IndexError and KeyError using a try-except block.\n",
    "try:\n",
    "    data = [1, 2, 3]\n",
    "    print(data[5]) #error\n",
    "    dictionary = {\"key1\": \"value1\"}\n",
    "    print(dictionary[\"key2\"])  #error\n",
    "except IndexError:\n",
    "    print(\"Index out of range.\")\n",
    "except KeyError:\n",
    "    print(\"Key not found in the dictionary.\")\n"
   ]
  },
  {
   "cell_type": "code",
   "execution_count": 54,
   "metadata": {},
   "outputs": [
    {
     "name": "stdout",
     "output_type": "stream",
     "text": [
      "1\n",
      "2\n",
      "3\n",
      "4\n",
      "5\n",
      "\n"
     ]
    }
   ],
   "source": [
    "# Q20 How would you open a file and read its contents using a context manager in Python?\n",
    "file_path = \"numbers.txt\"\n",
    "with open(file_path, 'r') as file:\n",
    "    print(file.read())"
   ]
  },
  {
   "cell_type": "code",
   "execution_count": 58,
   "metadata": {},
   "outputs": [
    {
     "name": "stdout",
     "output_type": "stream",
     "text": [
      "The word 'hello' occurs 2 times.\n"
     ]
    }
   ],
   "source": [
    "# Q21 Write a Python program that reads a file and prints the number of occurrences of a specific word\n",
    "file_path = \"test.txt\"\n",
    "word_to_count = \"hello\"\n",
    "with open(file_path, 'r') as file:\n",
    "    content = file.read()\n",
    "    count = content.split().count(word_to_count)\n",
    "print(f\"The word '{word_to_count}' occurs {count} times.\")\n"
   ]
  },
  {
   "cell_type": "code",
   "execution_count": 56,
   "metadata": {},
   "outputs": [
    {
     "name": "stdout",
     "output_type": "stream",
     "text": [
      "The file is empty.\n"
     ]
    }
   ],
   "source": [
    "# Q22 How can you check if a file is empty before attempting to read its contents?\n",
    "import os\n",
    "\n",
    "file_path = 'test5.txt'\n",
    "\n",
    "if os.path.getsize(file_path) != 0:\n",
    "    with open(file_path,\"r\")as f:\n",
    "        print(f.read())\n",
    "else:\n",
    "    print(\"The file is empty.\")"
   ]
  },
  {
   "cell_type": "code",
   "execution_count": 57,
   "metadata": {},
   "outputs": [],
   "source": [
    "# Q23 Write a Python program that writes to a log file when an error occurs during file handling.\n",
    "import logging\n",
    "logging.basicConfig(filename=\"file_errors.log\", level=logging.ERROR)\n",
    "\n",
    "file_path = \"nonexistent_file.txt\"\n",
    "try:\n",
    "    with open(file_path, 'r') as file:\n",
    "        print(file.read())\n",
    "except FileNotFoundError:\n",
    "    logging.error(f\"Q23File {file_path} not found.\", exc_info=True)\n",
    "\n"
   ]
  }
 ],
 "metadata": {
  "kernelspec": {
   "display_name": "Python 3",
   "language": "python",
   "name": "python3"
  },
  "language_info": {
   "codemirror_mode": {
    "name": "ipython",
    "version": 3
   },
   "file_extension": ".py",
   "mimetype": "text/x-python",
   "name": "python",
   "nbconvert_exporter": "python",
   "pygments_lexer": "ipython3",
   "version": "3.13.1"
  }
 },
 "nbformat": 4,
 "nbformat_minor": 2
}
